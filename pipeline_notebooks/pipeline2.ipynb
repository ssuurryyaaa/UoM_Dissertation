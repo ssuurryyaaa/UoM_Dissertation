{
  "cells": [
    {
      "cell_type": "code",
      "execution_count": 1,
      "metadata": {
        "colab": {
          "base_uri": "https://localhost:8080/"
        },
        "id": "nZHfLrkmpIlA",
        "outputId": "6cac49fd-adaa-40b4-9122-ee602b1d07de"
      },
      "outputs": [],
      "source": [
        "import pandas as pd\n",
        "import numpy as np\n",
        "import seaborn as sns\n",
        "import matplotlib.pyplot as plt\n",
        "import csv\n",
        "from collections import Counter\n",
        "\n",
        "from scipy.stats import chi2_contingency\n",
        "from sklearn.model_selection import train_test_split\n",
        "from sklearn.svm import SVR\n",
        "from sklearn.metrics import mean_squared_error\n",
        "from sklearn.metrics import accuracy_score\n",
        "from sklearn.model_selection import train_test_split, cross_val_score\n",
        "from sklearn.linear_model import LinearRegression\n",
        "from sklearn.metrics import mean_squared_error, r2_score\n"
      ]
    },
    {
      "cell_type": "code",
      "execution_count": 2,
      "metadata": {},
      "outputs": [],
      "source": [
        "your_path = '/Users/surya/Documents/UoM_Dissertation/'\n",
        "\n",
        "raw_path = your_path + 'artifacts/data/raw/'\n",
        "preprocess_path =  your_path + 'artifacts/data/preprocessing/'\n",
        "staging_path =  your_path + 'artifacts/data/staging/'\n",
        "\n",
        "prediction_path = your_path + 'artifacts/data/prediction/'"
      ]
    },
    {
      "cell_type": "markdown",
      "metadata": {},
      "source": [
        "### Finding rows that showed patterns "
      ]
    },
    {
      "cell_type": "code",
      "execution_count": 3,
      "metadata": {
        "id": "U6sce-53X4FH"
      },
      "outputs": [],
      "source": [
        "def find_rows_with_full_match(filename, target_values):\n",
        "    matching_row_numbers = []\n",
        "\n",
        "    try:\n",
        "        with open(filename, 'r') as file:\n",
        "            lines = file.readlines()\n",
        "\n",
        "            for line_number, line in enumerate(lines, start=1):\n",
        "                words = line.split()\n",
        "                unique_values = []\n",
        "\n",
        "                for word in words:\n",
        "                    try:\n",
        "                        value = int(word)\n",
        "                        if value not in unique_values:\n",
        "                            unique_values.append(value)\n",
        "                    except ValueError:\n",
        "                        pass\n",
        "\n",
        "                unique_values.sort()  # Sort the unique values\n",
        "\n",
        "                common_values = [value for value in unique_values if value in target_values]\n",
        "                count_common_values = len(common_values)\n",
        "\n",
        "                if count_common_values == len(target_values):\n",
        "                    matching_row_numbers.append(line_number)\n",
        "\n",
        "    except FileNotFoundError:\n",
        "        print(f\"The file '{filename}' does not exist.\")\n",
        "\n",
        "    return matching_row_numbers"
      ]
    },
    {
      "cell_type": "code",
      "execution_count": 4,
      "metadata": {
        "colab": {
          "base_uri": "https://localhost:8080/"
        },
        "id": "gZQtphL1-s9P",
        "outputId": "c02dafde-d73d-4bf6-d005-1db44031c594"
      },
      "outputs": [],
      "source": [
        "ip_file = staging_path + 'mining_output.txt'\n",
        "\n",
        "P1 = [12, 14, 52, 60, 62, 70, 76, 85, 86]\n",
        "index_row_with_P1 = find_rows_with_full_match(ip_file, P1)\n",
        "\n",
        "P2 = [12, 13, 14, 52, 62, 70, 76, 85, 86]\n",
        "index_row_with_P2 = find_rows_with_full_match(ip_file, P2)\n",
        "\n",
        "P3 = [12, 13, 14, 52, 60, 62, 70, 76, 86, 99]\n",
        "index_row_with_P3 = find_rows_with_full_match(ip_file, P2)\n",
        "\n",
        "P4 = [12, 13, 14, 52, 60, 62, 70, 76, 85, 86]\n",
        "index_row_with_P4 = find_rows_with_full_match(ip_file, P2)\n",
        "\n",
        "P5 = [12, 13, 14, 52, 60, 62, 70, 76, 85, 86, 99]\n",
        "index_row_with_P5 = find_rows_with_full_match(ip_file, P2)\n",
        "\n",
        "P6 = [12, 13, 14, 34, 52, 60, 62, 63, 70, 76, 85, 86]\n",
        "index_row_with_P6 = find_rows_with_full_match(ip_file, P2)\n",
        "\n",
        "P7 = [12, 13, 14, 34, 52, 59, 60, 62, 63, 70, 76, 86]\n",
        "index_row_with_P7 = find_rows_with_full_match(ip_file, P2)\n",
        "\n",
        "# Specify the file path where you want to save the CSV file\n",
        "csv_file_path1 = prediction_path + \"pattern_result1.csv\"\n",
        "csv_file_path2 = prediction_path + \"pattern_result2.csv\"\n",
        "csv_file_path3 = prediction_path + \"pattern_result3.csv\"\n",
        "csv_file_path4 = prediction_path + \"pattern_result4.csv\"\n",
        "csv_file_path5 = prediction_path + \"pattern_result5.csv\"\n",
        "csv_file_path6 = prediction_path + \"pattern_result6.csv\"\n",
        "csv_file_path7 = prediction_path + \"pattern_result7.csv\"\n",
        "\n",
        "# Write the updated_results list to the CSV file\n",
        "with open(csv_file_path1, \"w\", newline=\"\") as csv_file:\n",
        "    csv_writer = csv.writer(csv_file)\n",
        "    csv_writer.writerow([\"Merged Values\"])  # Write header\n",
        "    csv_writer.writerows([[value] for value in index_row_with_P1])\n",
        "\n",
        "with open(csv_file_path2, \"w\", newline=\"\") as csv_file:\n",
        "    csv_writer = csv.writer(csv_file)\n",
        "    csv_writer.writerow([\"Merged Values\"])  # Write header\n",
        "    csv_writer.writerows([[value] for value in index_row_with_P2])\n",
        "\n",
        "# Write the updated_results list to the CSV file\n",
        "with open(csv_file_path3, \"w\", newline=\"\") as csv_file:\n",
        "    csv_writer = csv.writer(csv_file)\n",
        "    csv_writer.writerow([\"Merged Values\"])  # Write header\n",
        "    csv_writer.writerows([[value] for value in index_row_with_P3])\n",
        "\n",
        "with open(csv_file_path4, \"w\", newline=\"\") as csv_file:\n",
        "    csv_writer = csv.writer(csv_file)\n",
        "    csv_writer.writerow([\"Merged Values\"])  # Write header\n",
        "    csv_writer.writerows([[value] for value in index_row_with_P4])\n",
        "\n",
        "# Write the updated_results list to the CSV file\n",
        "with open(csv_file_path5, \"w\", newline=\"\") as csv_file:\n",
        "    csv_writer = csv.writer(csv_file)\n",
        "    csv_writer.writerow([\"Merged Values\"])  # Write header\n",
        "    csv_writer.writerows([[value] for value in index_row_with_P5])\n",
        "\n",
        "with open(csv_file_path6, \"w\", newline=\"\") as csv_file:\n",
        "    csv_writer = csv.writer(csv_file)\n",
        "    csv_writer.writerow([\"Merged Values\"])  # Write header\n",
        "    csv_writer.writerows([[value] for value in index_row_with_P6])\n",
        "\n",
        "# Write the updated_results list to the CSV file\n",
        "with open(csv_file_path7, \"w\", newline=\"\") as csv_file:\n",
        "    csv_writer = csv.writer(csv_file)\n",
        "    csv_writer.writerow([\"Merged Values\"])  # Write header\n",
        "    csv_writer.writerows([[value] for value in index_row_with_P7])\n"
      ]
    },
    {
      "cell_type": "markdown",
      "metadata": {},
      "source": [
        "### Finding overall pattern counts"
      ]
    },
    {
      "cell_type": "code",
      "execution_count": 5,
      "metadata": {
        "id": "e1j6VKCQ_48e"
      },
      "outputs": [],
      "source": [
        "lists = [index_row_with_P1, index_row_with_P2, index_row_with_P3, index_row_with_P4, index_row_with_P5, index_row_with_P6, index_row_with_P7]\n",
        "\n",
        "# Flatten the lists into a single list\n",
        "flat_list = [item for sublist in lists for item in sublist]\n",
        "\n",
        "# Count the occurrences of each unique value\n",
        "count_dict = Counter(flat_list)\n",
        "\n",
        "# Create a DataFrame from the count dictionary\n",
        "df_pattern_count = pd.DataFrame(count_dict.items(), columns=['Value', 'Count'])\n",
        "\n",
        "df_pattern_count.to_csv(prediction_path + 'patterns_count_list.csv')"
      ]
    },
    {
      "cell_type": "markdown",
      "metadata": {},
      "source": [
        "### All unique interaction patterns"
      ]
    },
    {
      "cell_type": "code",
      "execution_count": 6,
      "metadata": {
        "id": "qio8chTc9MDp"
      },
      "outputs": [],
      "source": [
        "# Seven lists\n",
        "alllists = [P1, P2, P3, P4, P5, P6, P7]\n",
        "\n",
        "# Flatten the lists into a single list\n",
        "event_list = [item for sublist in alllists for item in sublist]\n",
        "\n",
        "# Step 2: Get unique values using set\n",
        "unique_values = set(event_list)\n",
        "\n",
        "# Convert the set back to a list if needed\n",
        "unique_list_of_events = list(unique_values)"
      ]
    },
    {
      "cell_type": "markdown",
      "metadata": {},
      "source": []
    },
    {
      "cell_type": "code",
      "execution_count": 7,
      "metadata": {
        "colab": {
          "base_uri": "https://localhost:8080/"
        },
        "id": "3JWOb8de9Rhi",
        "outputId": "020d7d81-c3d5-4a3b-b892-131a8bed6da0"
      },
      "outputs": [
        {
          "data": {
            "text/plain": [
              "[34, 99, 70, 12, 76, 14, 13, 52, 85, 86, 59, 60, 62, 63]"
            ]
          },
          "execution_count": 7,
          "metadata": {},
          "output_type": "execute_result"
        }
      ],
      "source": [
        "unique_list_of_events"
      ]
    },
    {
      "cell_type": "markdown",
      "metadata": {},
      "source": [
        "### Finding all the users who showed pattern"
      ]
    },
    {
      "cell_type": "code",
      "execution_count": 8,
      "metadata": {
        "id": "pdPXRHorg_rl"
      },
      "outputs": [],
      "source": [
        "user_index_pos = pd.read_csv(prediction_path + 'patterns_count_list.csv')\n",
        "user_index_pos['new_val'] = user_index_pos['Value'] - 1\n",
        "index_values_count1 = user_index_pos['new_val'].values\n"
      ]
    },
    {
      "cell_type": "code",
      "execution_count": 9,
      "metadata": {
        "colab": {
          "base_uri": "https://localhost:8080/"
        },
        "id": "gfSSMAnR8l2H",
        "outputId": "ac73f963-a9ae-4dc3-f26b-fee365ce9f83"
      },
      "outputs": [
        {
          "data": {
            "text/plain": [
              "array([ 37,  90, 119, 139, 159, 194, 231, 289, 300, 304, 350, 468, 544,\n",
              "       582, 641, 680, 681, 685, 691, 740, 741, 766,  32,  41,  85, 179,\n",
              "       244, 255, 369, 598, 648, 718, 781, 794])"
            ]
          },
          "execution_count": 9,
          "metadata": {},
          "output_type": "execute_result"
        }
      ],
      "source": [
        "index_values_count1"
      ]
    },
    {
      "cell_type": "code",
      "execution_count": 10,
      "metadata": {
        "id": "CielCavFNluH"
      },
      "outputs": [],
      "source": [
        "# original_list = [37, 90, 119, 139, 159, 194, 231, 289, 300, 304, 350, 468, 544, 582, 641, 680, 681, 685, 691, 740, 741, 766, 32, 41, 85, 179, 244, 255, 369, 598, 648, 718, 781, 794]\n",
        "def find_user_pattern_count(index_values_count1):\n",
        "  itemset_count = 50\n",
        "  modulus_values = [x % itemset_count for x in index_values_count1]\n",
        "\n",
        "  value_counts = pd.Series(modulus_values).value_counts().reset_index()\n",
        "  value_counts.columns = ['Modulus', 'Count']\n",
        "  sorted_value_counts = value_counts.sort_values(by=['Count','Modulus'])\n",
        " \n",
        "  return sorted_value_counts"
      ]
    },
    {
      "cell_type": "code",
      "execution_count": 11,
      "metadata": {
        "id": "8w0fg_WfRXn_"
      },
      "outputs": [],
      "source": [
        "combined_list = []\n",
        "\n",
        "combined_list.extend(index_row_with_P1)\n",
        "combined_list.extend(index_row_with_P2)\n",
        "combined_list.extend(index_row_with_P3)\n",
        "combined_list.extend(index_row_with_P4)\n",
        "combined_list.extend(index_row_with_P5)\n",
        "combined_list.extend(index_row_with_P6)\n",
        "combined_list.extend(index_row_with_P7)"
      ]
    },
    {
      "cell_type": "code",
      "execution_count": 12,
      "metadata": {
        "colab": {
          "base_uri": "https://localhost:8080/",
          "height": 613
        },
        "id": "DtYALnDWR1v-",
        "outputId": "0a703e7f-e2ca-4618-c0d9-d5adb74af1e2"
      },
      "outputs": [],
      "source": [
        "bar_graph = find_user_pattern_count(combined_list)"
      ]
    },
    {
      "cell_type": "code",
      "execution_count": 13,
      "metadata": {
        "colab": {
          "base_uri": "https://localhost:8080/",
          "height": 607
        },
        "id": "81pe7Kc4UO7v",
        "outputId": "394cd085-c67b-428d-de8e-44a421278eb2"
      },
      "outputs": [
        {
          "data": {
            "image/png": "[encoded data removed]",
            "text/plain": [
              "<Figure size 800x600 with 1 Axes>"
            ]
          },
          "metadata": {},
          "output_type": "display_data"
        }
      ],
      "source": [
        "# Calculate the frequency of each unique value in the 'Count' column\n",
        "value_counts = bar_graph['Count'].value_counts()\n",
        "\n",
        "# Plotting the bar_graph graph with x and y axes interchanged\n",
        "plt.figure(figsize=(8, 6))  # Set the figure size\n",
        "plt.bar(value_counts.index, value_counts.values)  # Plot the bar_graphs horizontally\n",
        "\n",
        "# Adding labels and title\n",
        "plt.xlabel('Number of users')\n",
        "plt.ylabel('Number of times a pattern was exhibited')\n",
        "plt.title('Frequency of top patterns')\n",
        "\n",
        "plt.xticks(range(int(min(value_counts.values)), int(max(value_counts.values)) + 1, 1))\n",
        "\n",
        "# Display the plot\n",
        "plt.tight_layout()\n",
        "plt.show()"
      ]
    },
    {
      "cell_type": "markdown",
      "metadata": {},
      "source": [
        "### Finding users across each pattern"
      ]
    },
    {
      "cell_type": "code",
      "execution_count": 14,
      "metadata": {
        "id": "DEsWXnu50ZCT"
      },
      "outputs": [],
      "source": [
        "\n",
        "users_index_P1 = pd.read_csv(prediction_path + '/pattern_result1.csv')\n",
        "users_index_P1['new_val'] = users_index_P1['Merged Values'] - 1\n",
        "# Extract values from the Series\n",
        "ind_values1 = users_index_P1['new_val'].values\n",
        "users_index_P2 = pd.read_csv(prediction_path + '/pattern_result2.csv')\n",
        "users_index_P2['new_val'] = users_index_P2['Merged Values'] - 1\n",
        "# Extract values from the Series\n",
        "ind_values2 = users_index_P2['new_val'].values\n",
        "users_index_P3 = pd.read_csv(prediction_path + '/pattern_result3.csv')\n",
        "users_index_P3['new_val'] = users_index_P3['Merged Values'] - 1\n",
        "# Extract values from the Series\n",
        "ind_values3 = users_index_P3['new_val'].values\n",
        "\n",
        "users_index_P4 = pd.read_csv(prediction_path + '/pattern_result4.csv')\n",
        "users_index_P4['new_val'] = users_index_P4['Merged Values'] - 1\n",
        "# Extract values from the Series\n",
        "ind_values4 = users_index_P4['new_val'].values\n",
        "users_index_P5 = pd.read_csv(prediction_path + '/pattern_result5.csv')\n",
        "users_index_P5['new_val'] = users_index_P5['Merged Values'] - 1\n",
        "# Extract values from the Series\n",
        "ind_values5 = users_index_P5['new_val'].values\n",
        "users_index_P6 = pd.read_csv(prediction_path + '/pattern_result6.csv')\n",
        "users_index_P6['new_val'] = users_index_P6['Merged Values'] - 1\n",
        "# Extract values from the Series\n",
        "ind_values6 = users_index_P6['new_val'].values\n",
        "users_index_P7 = pd.read_csv(prediction_path + '/pattern_result7.csv')\n",
        "users_index_P7['new_val'] = users_index_P7['Merged Values'] - 1\n",
        "# Extract values from the Series\n",
        "ind_values7 = users_index_P7['new_val'].values"
      ]
    },
    {
      "cell_type": "code",
      "execution_count": 15,
      "metadata": {
        "colab": {
          "base_uri": "https://localhost:8080/",
          "height": 423
        },
        "id": "f5WuMU9nfU65",
        "outputId": "faf42e68-2a11-4df9-ddf5-74126b4c1e8b"
      },
      "outputs": [
        {
          "data": {
            "text/html": [
              "<div>\n",
              "<style scoped>\n",
              "    .dataframe tbody tr th:only-of-type {\n",
              "        vertical-align: middle;\n",
              "    }\n",
              "\n",
              "    .dataframe tbody tr th {\n",
              "        vertical-align: top;\n",
              "    }\n",
              "\n",
              "    .dataframe thead th {\n",
              "        text-align: right;\n",
              "    }\n",
              "</style>\n",
              "<table border=\"1\" class=\"dataframe\">\n",
              "  <thead>\n",
              "    <tr style=\"text-align: right;\">\n",
              "      <th></th>\n",
              "      <th>Unnamed: 0</th>\n",
              "      <th>Original_String</th>\n",
              "      <th>New_Number</th>\n",
              "      <th>event</th>\n",
              "      <th>UI</th>\n",
              "    </tr>\n",
              "  </thead>\n",
              "  <tbody>\n",
              "    <tr>\n",
              "      <th>0</th>\n",
              "      <td>0</td>\n",
              "      <td>click__TABLE</td>\n",
              "      <td>1</td>\n",
              "      <td>click</td>\n",
              "      <td>TABLE</td>\n",
              "    </tr>\n",
              "    <tr>\n",
              "      <th>1</th>\n",
              "      <td>1</td>\n",
              "      <td>dblclick__TEXT</td>\n",
              "      <td>2</td>\n",
              "      <td>dblclick</td>\n",
              "      <td>TEXT</td>\n",
              "    </tr>\n",
              "    <tr>\n",
              "      <th>2</th>\n",
              "      <td>2</td>\n",
              "      <td>hover__TABLE</td>\n",
              "      <td>3</td>\n",
              "      <td>hover</td>\n",
              "      <td>TABLE</td>\n",
              "    </tr>\n",
              "    <tr>\n",
              "      <th>3</th>\n",
              "      <td>3</td>\n",
              "      <td>hover__SELECTION</td>\n",
              "      <td>4</td>\n",
              "      <td>hover</td>\n",
              "      <td>SELECTION</td>\n",
              "    </tr>\n",
              "    <tr>\n",
              "      <th>4</th>\n",
              "      <td>4</td>\n",
              "      <td>scroll__TABLE</td>\n",
              "      <td>5</td>\n",
              "      <td>scroll</td>\n",
              "      <td>TABLE</td>\n",
              "    </tr>\n",
              "    <tr>\n",
              "      <th>...</th>\n",
              "      <td>...</td>\n",
              "      <td>...</td>\n",
              "      <td>...</td>\n",
              "      <td>...</td>\n",
              "      <td>...</td>\n",
              "    </tr>\n",
              "    <tr>\n",
              "      <th>106</th>\n",
              "      <td>106</td>\n",
              "      <td>press__INPUT</td>\n",
              "      <td>107</td>\n",
              "      <td>press</td>\n",
              "      <td>INPUT</td>\n",
              "    </tr>\n",
              "    <tr>\n",
              "      <th>107</th>\n",
              "      <td>107</td>\n",
              "      <td>scroll__TEXT</td>\n",
              "      <td>108</td>\n",
              "      <td>scroll</td>\n",
              "      <td>TEXT</td>\n",
              "    </tr>\n",
              "    <tr>\n",
              "      <th>108</th>\n",
              "      <td>108</td>\n",
              "      <td>contextmenu__TEXT</td>\n",
              "      <td>109</td>\n",
              "      <td>contextmenu</td>\n",
              "      <td>TEXT</td>\n",
              "    </tr>\n",
              "    <tr>\n",
              "      <th>109</th>\n",
              "      <td>109</td>\n",
              "      <td>multiclick__GRAPHIC</td>\n",
              "      <td>110</td>\n",
              "      <td>multiclick</td>\n",
              "      <td>GRAPHIC</td>\n",
              "    </tr>\n",
              "    <tr>\n",
              "      <th>110</th>\n",
              "      <td>110</td>\n",
              "      <td>multihover__TEXT</td>\n",
              "      <td>111</td>\n",
              "      <td>multihover</td>\n",
              "      <td>TEXT</td>\n",
              "    </tr>\n",
              "  </tbody>\n",
              "</table>\n",
              "<p>111 rows × 5 columns</p>\n",
              "</div>"
            ],
            "text/plain": [
              "     Unnamed: 0      Original_String  New_Number        event         UI\n",
              "0             0         click__TABLE           1        click      TABLE\n",
              "1             1       dblclick__TEXT           2     dblclick       TEXT\n",
              "2             2         hover__TABLE           3        hover      TABLE\n",
              "3             3     hover__SELECTION           4        hover  SELECTION\n",
              "4             4        scroll__TABLE           5       scroll      TABLE\n",
              "..          ...                  ...         ...          ...        ...\n",
              "106         106         press__INPUT         107        press      INPUT\n",
              "107         107         scroll__TEXT         108       scroll       TEXT\n",
              "108         108    contextmenu__TEXT         109  contextmenu       TEXT\n",
              "109         109  multiclick__GRAPHIC         110   multiclick    GRAPHIC\n",
              "110         110     multihover__TEXT         111   multihover       TEXT\n",
              "\n",
              "[111 rows x 5 columns]"
            ]
          },
          "execution_count": 15,
          "metadata": {},
          "output_type": "execute_result"
        }
      ],
      "source": [
        "event_mapping = pd.read_csv(staging_path + 'event_tagtype_mapping.csv')\n",
        "event_mapping[['event', 'UI']] = event_mapping['Original_String'].str.split('__', expand=True)\n",
        "\n",
        "event_mapping"
      ]
    },
    {
      "cell_type": "markdown",
      "metadata": {},
      "source": [
        "### Patterns meaning"
      ]
    },
    {
      "cell_type": "code",
      "execution_count": 16,
      "metadata": {
        "colab": {
          "base_uri": "https://localhost:8080/"
        },
        "id": "7nkRtHucv3Ms",
        "outputId": "319f9a71-a3c6-4674-9b2d-55bbb3bab756"
      },
      "outputs": [],
      "source": [
        "matching_values_1 = event_mapping.loc[event_mapping['New_Number'].isin(P1), 'Original_String']\n",
        "matching_values_2 = event_mapping.loc[event_mapping['New_Number'].isin(P2), 'Original_String']\n",
        "matching_values_3 = event_mapping.loc[event_mapping['New_Number'].isin(P3), 'Original_String']\n",
        "matching_values_4 = event_mapping.loc[event_mapping['New_Number'].isin(P4), 'Original_String']\n",
        "matching_values_5 = event_mapping.loc[event_mapping['New_Number'].isin(P5), 'Original_String']\n",
        "matching_values_6 = event_mapping.loc[event_mapping['New_Number'].isin(P6), 'Original_String']\n",
        "matching_values_7 = event_mapping.loc[event_mapping['New_Number'].isin(P7), 'Original_String']"
      ]
    },
    {
      "cell_type": "code",
      "execution_count": 17,
      "metadata": {},
      "outputs": [
        {
          "data": {
            "text/plain": [
              "11             hover__DIV\n",
              "13       multiscroll__DIV\n",
              "51    multihover__GRAPHIC\n",
              "59    multihover__SECTION\n",
              "61            scroll__DIV\n",
              "69        scroll__GRAPHIC\n",
              "75         hover__GRAPHIC\n",
              "84    multihover__HEADING\n",
              "85        multihover__DIV\n",
              "Name: Original_String, dtype: object"
            ]
          },
          "execution_count": 17,
          "metadata": {},
          "output_type": "execute_result"
        }
      ],
      "source": [
        "matching_values_1"
      ]
    },
    {
      "cell_type": "code",
      "execution_count": 18,
      "metadata": {
        "colab": {
          "base_uri": "https://localhost:8080/"
        },
        "id": "DhgluJgwv26y",
        "outputId": "7aa19fcb-71dc-4792-c4ca-16223e264d01"
      },
      "outputs": [
        {
          "data": {
            "text/plain": [
              "11              hover__DIV\n",
              "12    multiscroll__GRAPHIC\n",
              "13        multiscroll__DIV\n",
              "51     multihover__GRAPHIC\n",
              "61             scroll__DIV\n",
              "69         scroll__GRAPHIC\n",
              "75          hover__GRAPHIC\n",
              "84     multihover__HEADING\n",
              "85         multihover__DIV\n",
              "Name: Original_String, dtype: object"
            ]
          },
          "execution_count": 18,
          "metadata": {},
          "output_type": "execute_result"
        }
      ],
      "source": [
        "matching_values_2"
      ]
    },
    {
      "cell_type": "code",
      "execution_count": 19,
      "metadata": {
        "colab": {
          "base_uri": "https://localhost:8080/"
        },
        "id": "EP22yf-l7qlb",
        "outputId": "36218b17-df49-4687-ec4d-2b0cc93471ea"
      },
      "outputs": [
        {
          "data": {
            "text/plain": [
              "11              hover__DIV\n",
              "12    multiscroll__GRAPHIC\n",
              "13        multiscroll__DIV\n",
              "51     multihover__GRAPHIC\n",
              "59     multihover__SECTION\n",
              "61             scroll__DIV\n",
              "69         scroll__GRAPHIC\n",
              "75          hover__GRAPHIC\n",
              "85         multihover__DIV\n",
              "98              click__DIV\n",
              "Name: Original_String, dtype: object"
            ]
          },
          "execution_count": 19,
          "metadata": {},
          "output_type": "execute_result"
        }
      ],
      "source": [
        "matching_values_3"
      ]
    },
    {
      "cell_type": "code",
      "execution_count": 20,
      "metadata": {
        "colab": {
          "base_uri": "https://localhost:8080/"
        },
        "id": "8_H0mJtd7sri",
        "outputId": "159a8f65-57b5-4cb0-daa7-324f449015d1"
      },
      "outputs": [
        {
          "data": {
            "text/plain": [
              "11              hover__DIV\n",
              "12    multiscroll__GRAPHIC\n",
              "13        multiscroll__DIV\n",
              "51     multihover__GRAPHIC\n",
              "59     multihover__SECTION\n",
              "61             scroll__DIV\n",
              "69         scroll__GRAPHIC\n",
              "75          hover__GRAPHIC\n",
              "84     multihover__HEADING\n",
              "85         multihover__DIV\n",
              "Name: Original_String, dtype: object"
            ]
          },
          "execution_count": 20,
          "metadata": {},
          "output_type": "execute_result"
        }
      ],
      "source": [
        "matching_values_4"
      ]
    },
    {
      "cell_type": "code",
      "execution_count": 21,
      "metadata": {
        "colab": {
          "base_uri": "https://localhost:8080/"
        },
        "id": "x4INGNs07ua3",
        "outputId": "d044cb9e-f227-42fc-a2ea-8a6d879a1170"
      },
      "outputs": [
        {
          "data": {
            "text/plain": [
              "11              hover__DIV\n",
              "12    multiscroll__GRAPHIC\n",
              "13        multiscroll__DIV\n",
              "51     multihover__GRAPHIC\n",
              "59     multihover__SECTION\n",
              "61             scroll__DIV\n",
              "69         scroll__GRAPHIC\n",
              "75          hover__GRAPHIC\n",
              "84     multihover__HEADING\n",
              "85         multihover__DIV\n",
              "98              click__DIV\n",
              "Name: Original_String, dtype: object"
            ]
          },
          "execution_count": 21,
          "metadata": {},
          "output_type": "execute_result"
        }
      ],
      "source": [
        "matching_values_5"
      ]
    },
    {
      "cell_type": "code",
      "execution_count": 22,
      "metadata": {
        "colab": {
          "base_uri": "https://localhost:8080/"
        },
        "id": "oGclXFx27wMX",
        "outputId": "be94df5f-5eb5-4627-b0aa-73247bbae1ce"
      },
      "outputs": [
        {
          "data": {
            "text/plain": [
              "11              hover__DIV\n",
              "12    multiscroll__GRAPHIC\n",
              "13        multiscroll__DIV\n",
              "33        multihover__SPAN\n",
              "51     multihover__GRAPHIC\n",
              "59     multihover__SECTION\n",
              "61             scroll__DIV\n",
              "62             click__SPAN\n",
              "69         scroll__GRAPHIC\n",
              "75          hover__GRAPHIC\n",
              "84     multihover__HEADING\n",
              "85         multihover__DIV\n",
              "Name: Original_String, dtype: object"
            ]
          },
          "execution_count": 22,
          "metadata": {},
          "output_type": "execute_result"
        }
      ],
      "source": [
        "matching_values_6"
      ]
    },
    {
      "cell_type": "code",
      "execution_count": 23,
      "metadata": {
        "colab": {
          "base_uri": "https://localhost:8080/"
        },
        "id": "Sp1Jkf1N7xy2",
        "outputId": "0b021a6e-d73f-4400-f886-ff069f9f605c"
      },
      "outputs": [
        {
          "data": {
            "text/plain": [
              "11              hover__DIV\n",
              "12    multiscroll__GRAPHIC\n",
              "13        multiscroll__DIV\n",
              "33        multihover__SPAN\n",
              "51     multihover__GRAPHIC\n",
              "58             click__TEXT\n",
              "59     multihover__SECTION\n",
              "61             scroll__DIV\n",
              "62             click__SPAN\n",
              "69         scroll__GRAPHIC\n",
              "75          hover__GRAPHIC\n",
              "85         multihover__DIV\n",
              "Name: Original_String, dtype: object"
            ]
          },
          "execution_count": 23,
          "metadata": {},
          "output_type": "execute_result"
        }
      ],
      "source": [
        "matching_values_7"
      ]
    },
    {
      "cell_type": "code",
      "execution_count": 24,
      "metadata": {
        "colab": {
          "base_uri": "https://localhost:8080/"
        },
        "id": "bt49HoZU8fE6",
        "outputId": "7903f307-b5eb-4679-a699-e95fc92dbf69"
      },
      "outputs": [
        {
          "data": {
            "text/plain": [
              "11              hover__DIV\n",
              "12    multiscroll__GRAPHIC\n",
              "13        multiscroll__DIV\n",
              "33        multihover__SPAN\n",
              "51     multihover__GRAPHIC\n",
              "58             click__TEXT\n",
              "59     multihover__SECTION\n",
              "61             scroll__DIV\n",
              "62             click__SPAN\n",
              "69         scroll__GRAPHIC\n",
              "75          hover__GRAPHIC\n",
              "84     multihover__HEADING\n",
              "85         multihover__DIV\n",
              "98              click__DIV\n",
              "Name: Original_String, dtype: object"
            ]
          },
          "execution_count": 24,
          "metadata": {},
          "output_type": "execute_result"
        }
      ],
      "source": [
        "all_events_seq = event_mapping.loc[event_mapping['New_Number'].isin(unique_list_of_events), 'Original_String']\n",
        "\n",
        "all_events_seq"
      ]
    },
    {
      "cell_type": "markdown",
      "metadata": {},
      "source": [
        "### Merging users with usability data"
      ]
    },
    {
      "cell_type": "code",
      "execution_count": 25,
      "metadata": {
        "id": "ql1Pmz8wpQId"
      },
      "outputs": [],
      "source": [
        "df1 = pd.read_csv(staging_path + 'usability_dataset.csv')\n",
        "df2 = pd.read_csv(staging_path + 'sorted_usertime.csv')\n",
        "df = pd.merge(df1, df2, on='Timestamp')\n",
        "\n",
        "factors = ['mental','physical', 'temporal', 'performance', 'effort', 'frustration','Answer','quartile_classification','SGLT']\n",
        "pattern_factors = ['Count','mental','physical', 'temporal', 'performance', 'effort', 'frustration','Answer','quartile_classification','SGLT']"
      ]
    },
    {
      "cell_type": "markdown",
      "metadata": {},
      "source": [
        " ### EDA"
      ]
    },
    {
      "cell_type": "code",
      "execution_count": 26,
      "metadata": {
        "colab": {
          "base_uri": "https://localhost:8080/"
        },
        "id": "8K19VUL1p9Rs",
        "outputId": "565043a3-aa65-4866-ad76-48e6566b6ff3"
      },
      "outputs": [
        {
          "data": {
            "text/plain": [
              "Index(['Unnamed: 0', 'P', 'DB', 'Issue', 'Type', 'Q', 'Answer', 'Time', 'SGLT',\n",
              "       'mental', 'physical', 'temporal', 'performance', 'effort',\n",
              "       'frustration', 'avg_others', 'avg_all', 'Timestamp', 'User'],\n",
              "      dtype='object')"
            ]
          },
          "execution_count": 26,
          "metadata": {},
          "output_type": "execute_result"
        }
      ],
      "source": [
        "df.columns"
      ]
    },
    {
      "cell_type": "code",
      "execution_count": 27,
      "metadata": {
        "id": "EfYNpOtBqeSm"
      },
      "outputs": [],
      "source": [
        "def classify_quartile(time_value):\n",
        "    if time_value <= quartiles.iloc[1]:\n",
        "        return 1\n",
        "    elif time_value <= quartiles.iloc[2]:\n",
        "        return 2\n",
        "    elif time_value <= quartiles.iloc[3]:\n",
        "        return 3\n",
        "    else:\n",
        "        return 4"
      ]
    },
    {
      "cell_type": "code",
      "execution_count": 28,
      "metadata": {
        "id": "0y950UdRpabW"
      },
      "outputs": [],
      "source": [
        "df.rename(columns={'avg_all': 'avg_dep_var'}, inplace=True)\n",
        "\n",
        "df['time_column'] = pd.to_datetime(df['Time'])\n",
        "\n",
        "quartiles = df['time_column'].quantile([0, 0.25, 0.5, 0.75, 1])\n",
        "df['quartile_classification'] = df['time_column'].apply(classify_quartile)\n",
        "\n",
        "# df['task'] = df.apply(lambda row: row['DB'] + 'a' if row['Q'] == 1 else row['DB'] + 'b', axis=1)\n",
        "df['task'] = df.apply(lambda row: str(row['DB']) + 'a' if row['Q'] == 1 else str(row['DB']) + 'b', axis=1)\n"
      ]
    },
    {
      "cell_type": "code",
      "execution_count": 29,
      "metadata": {
        "id": "J3XLNmlPnuBT"
      },
      "outputs": [],
      "source": [
        "df.sort_values(by=['task','User'], inplace=True)\n",
        "df.reset_index(inplace=True)"
      ]
    },
    {
      "cell_type": "code",
      "execution_count": 30,
      "metadata": {
        "id": "O4PDsjtRqc45"
      },
      "outputs": [],
      "source": [
        "for index, row in user_index_pos.iterrows():\n",
        "    df.loc[row['new_val'], 'Count'] = row['Count']\n",
        "\n",
        "df.Count.fillna(0, inplace=True)\n",
        "df['Count'] = df['Count'].astype(int)"
      ]
    },
    {
      "cell_type": "code",
      "execution_count": 31,
      "metadata": {
        "colab": {
          "base_uri": "https://localhost:8080/"
        },
        "id": "REBUF9AaM3s4",
        "outputId": "5145f28a-1152-4aa7-a561-31968dd93e79"
      },
      "outputs": [
        {
          "data": {
            "text/plain": [
              "0    766\n",
              "7     20\n",
              "6     12\n",
              "1      2\n",
              "Name: Count, dtype: int64"
            ]
          },
          "execution_count": 31,
          "metadata": {},
          "output_type": "execute_result"
        }
      ],
      "source": [
        "df['Count'].value_counts()"
      ]
    },
    {
      "cell_type": "code",
      "execution_count": 32,
      "metadata": {
        "colab": {
          "base_uri": "https://localhost:8080/"
        },
        "id": "00vkf3YXnttn",
        "outputId": "c416ffff-6b1f-4834-cf96-1342ff943968"
      },
      "outputs": [
        {
          "data": {
            "text/plain": [
              "0    778\n",
              "1     22\n",
              "Name: Pattern1, dtype: int64"
            ]
          },
          "execution_count": 32,
          "metadata": {},
          "output_type": "execute_result"
        }
      ],
      "source": [
        "df['Pattern1'] = df.index.isin(ind_values1).astype(int)\n",
        "df['Pattern1'].value_counts()"
      ]
    },
    {
      "cell_type": "code",
      "execution_count": 33,
      "metadata": {
        "colab": {
          "base_uri": "https://localhost:8080/"
        },
        "id": "5vqWO3Suneqa",
        "outputId": "bb4e7ecf-b11e-416b-b919-a3858c4c4ef1"
      },
      "outputs": [
        {
          "data": {
            "text/plain": [
              "0    768\n",
              "1     32\n",
              "Name: Pattern2, dtype: int64"
            ]
          },
          "execution_count": 33,
          "metadata": {},
          "output_type": "execute_result"
        }
      ],
      "source": [
        "df['Pattern2'] = df.index.isin(ind_values2).astype(int)\n",
        "df['Pattern2'].value_counts()"
      ]
    },
    {
      "cell_type": "code",
      "execution_count": 34,
      "metadata": {
        "id": "6wz5EiXL33aV"
      },
      "outputs": [],
      "source": [
        "df['Pattern3'] = df.index.isin(ind_values3).astype(int)\n",
        "df['Pattern4'] = df.index.isin(ind_values4).astype(int)\n",
        "df['Pattern5'] = df.index.isin(ind_values5).astype(int)\n",
        "df['Pattern6'] = df.index.isin(ind_values6).astype(int)\n",
        "df['Pattern7'] = df.index.isin(ind_values7).astype(int)\n"
      ]
    },
    {
      "cell_type": "code",
      "execution_count": 35,
      "metadata": {
        "colab": {
          "base_uri": "https://localhost:8080/"
        },
        "id": "zrS-xVqQ4LrE",
        "outputId": "e25c7339-ccf1-43ac-8cba-99f1a07f5dd2"
      },
      "outputs": [
        {
          "name": "stdout",
          "output_type": "stream",
          "text": [
            "0    778\n",
            "1     22\n",
            "Name: Pattern1, dtype: int64\n",
            "0    768\n",
            "1     32\n",
            "Name: Pattern2, dtype: int64\n",
            "0    768\n",
            "1     32\n",
            "Name: Pattern3, dtype: int64\n",
            "0    768\n",
            "1     32\n",
            "Name: Pattern4, dtype: int64\n",
            "0    768\n",
            "1     32\n",
            "Name: Pattern5, dtype: int64\n",
            "0    768\n",
            "1     32\n",
            "Name: Pattern6, dtype: int64\n",
            "0    768\n",
            "1     32\n",
            "Name: Pattern7, dtype: int64\n"
          ]
        }
      ],
      "source": [
        "print(df['Pattern1'].value_counts())\n",
        "print(df['Pattern2'].value_counts())\n",
        "print(df['Pattern3'].value_counts())\n",
        "print(df['Pattern4'].value_counts())\n",
        "print(df['Pattern5'].value_counts())\n",
        "print(df['Pattern6'].value_counts())\n",
        "print(df['Pattern7'].value_counts())\n"
      ]
    },
    {
      "cell_type": "code",
      "execution_count": 36,
      "metadata": {
        "colab": {
          "base_uri": "https://localhost:8080/"
        },
        "id": "doBdUpcyqm72",
        "outputId": "10a4fa40-cfa7-4318-c8b9-18b85d2b51dd"
      },
      "outputs": [
        {
          "name": "stdout",
          "output_type": "stream",
          "text": [
            "<class 'pandas.core.frame.DataFrame'>\n",
            "RangeIndex: 800 entries, 0 to 799\n",
            "Data columns (total 31 columns):\n",
            " #   Column                   Non-Null Count  Dtype         \n",
            "---  ------                   --------------  -----         \n",
            " 0   index                    800 non-null    int64         \n",
            " 1   Unnamed: 0               800 non-null    int64         \n",
            " 2   P                        800 non-null    object        \n",
            " 3   DB                       800 non-null    int64         \n",
            " 4   Issue                    800 non-null    object        \n",
            " 5   Type                     800 non-null    object        \n",
            " 6   Q                        800 non-null    int64         \n",
            " 7   Answer                   800 non-null    int64         \n",
            " 8   Time                     800 non-null    float64       \n",
            " 9   SGLT                     800 non-null    int64         \n",
            " 10  mental                   800 non-null    float64       \n",
            " 11  physical                 800 non-null    float64       \n",
            " 12  temporal                 800 non-null    int64         \n",
            " 13  performance              800 non-null    int64         \n",
            " 14  effort                   800 non-null    int64         \n",
            " 15  frustration              800 non-null    float64       \n",
            " 16  avg_others               800 non-null    float64       \n",
            " 17  avg_dep_var              800 non-null    float64       \n",
            " 18  Timestamp                800 non-null    int64         \n",
            " 19  User                     800 non-null    int64         \n",
            " 20  time_column              800 non-null    datetime64[ns]\n",
            " 21  quartile_classification  800 non-null    int64         \n",
            " 22  task                     800 non-null    object        \n",
            " 23  Count                    800 non-null    int64         \n",
            " 24  Pattern1                 800 non-null    int64         \n",
            " 25  Pattern2                 800 non-null    int64         \n",
            " 26  Pattern3                 800 non-null    int64         \n",
            " 27  Pattern4                 800 non-null    int64         \n",
            " 28  Pattern5                 800 non-null    int64         \n",
            " 29  Pattern6                 800 non-null    int64         \n",
            " 30  Pattern7                 800 non-null    int64         \n",
            "dtypes: datetime64[ns](1), float64(6), int64(20), object(4)\n",
            "memory usage: 193.9+ KB\n"
          ]
        }
      ],
      "source": [
        "df.info()"
      ]
    },
    {
      "cell_type": "code",
      "execution_count": 37,
      "metadata": {
        "colab": {
          "base_uri": "https://localhost:8080/"
        },
        "id": "nK6GaZK-oOFy",
        "outputId": "15b92282-6d9d-4e5d-da5c-92325a672d49"
      },
      "outputs": [
        {
          "data": {
            "text/plain": [
              "Index(['index', 'Unnamed: 0', 'P', 'DB', 'Issue', 'Type', 'Q', 'Answer',\n",
              "       'Time', 'SGLT', 'mental', 'physical', 'temporal', 'performance',\n",
              "       'effort', 'frustration', 'avg_others', 'avg_dep_var', 'Timestamp',\n",
              "       'User', 'time_column', 'quartile_classification', 'task', 'Count',\n",
              "       'Pattern1', 'Pattern2', 'Pattern3', 'Pattern4', 'Pattern5', 'Pattern6',\n",
              "       'Pattern7'],\n",
              "      dtype='object')"
            ]
          },
          "execution_count": 37,
          "metadata": {},
          "output_type": "execute_result"
        }
      ],
      "source": [
        "df.columns"
      ]
    },
    {
      "cell_type": "markdown",
      "metadata": {},
      "source": [
        "### Correlation analysis"
      ]
    },
    {
      "cell_type": "code",
      "execution_count": 38,
      "metadata": {
        "colab": {
          "base_uri": "https://localhost:8080/",
          "height": 1000
        },
        "id": "KP7Uo_7e4eF7",
        "outputId": "e56335b4-fcba-4081-a1bf-38e29d150233"
      },
      "outputs": [
        {
          "name": "stderr",
          "output_type": "stream",
          "text": [
            "/var/folders/pd/5c5685_16pg8rhq7k0050lt80000gn/T/ipykernel_59701/2722293630.py:1: FutureWarning: The default value of numeric_only in DataFrame.corr is deprecated. In a future version, it will default to False. Select only valid columns or specify the value of numeric_only to silence this warning.\n",
            "  corl = df.corr()\n"
          ]
        },
        {
          "data": {
            "text/html": [
              "<div>\n",
              "<style scoped>\n",
              "    .dataframe tbody tr th:only-of-type {\n",
              "        vertical-align: middle;\n",
              "    }\n",
              "\n",
              "    .dataframe tbody tr th {\n",
              "        vertical-align: top;\n",
              "    }\n",
              "\n",
              "    .dataframe thead th {\n",
              "        text-align: right;\n",
              "    }\n",
              "</style>\n",
              "<table border=\"1\" class=\"dataframe\">\n",
              "  <thead>\n",
              "    <tr style=\"text-align: right;\">\n",
              "      <th></th>\n",
              "      <th>index</th>\n",
              "      <th>Unnamed: 0</th>\n",
              "      <th>DB</th>\n",
              "      <th>Q</th>\n",
              "      <th>Answer</th>\n",
              "      <th>Time</th>\n",
              "      <th>SGLT</th>\n",
              "      <th>mental</th>\n",
              "      <th>physical</th>\n",
              "      <th>temporal</th>\n",
              "      <th>...</th>\n",
              "      <th>User</th>\n",
              "      <th>quartile_classification</th>\n",
              "      <th>Count</th>\n",
              "      <th>Pattern1</th>\n",
              "      <th>Pattern2</th>\n",
              "      <th>Pattern3</th>\n",
              "      <th>Pattern4</th>\n",
              "      <th>Pattern5</th>\n",
              "      <th>Pattern6</th>\n",
              "      <th>Pattern7</th>\n",
              "    </tr>\n",
              "  </thead>\n",
              "  <tbody>\n",
              "    <tr>\n",
              "      <th>index</th>\n",
              "      <td>1.000000</td>\n",
              "      <td>1.000000</td>\n",
              "      <td>6.094682e-04</td>\n",
              "      <td>-4.005371e-04</td>\n",
              "      <td>-0.018598</td>\n",
              "      <td>-0.093933</td>\n",
              "      <td>7.931118e-02</td>\n",
              "      <td>0.096850</td>\n",
              "      <td>0.210886</td>\n",
              "      <td>0.104870</td>\n",
              "      <td>...</td>\n",
              "      <td>6.503866e-01</td>\n",
              "      <td>-0.152843</td>\n",
              "      <td>0.030511</td>\n",
              "      <td>-0.000298</td>\n",
              "      <td>0.033836</td>\n",
              "      <td>0.033836</td>\n",
              "      <td>0.033836</td>\n",
              "      <td>0.033836</td>\n",
              "      <td>0.033836</td>\n",
              "      <td>0.033836</td>\n",
              "    </tr>\n",
              "    <tr>\n",
              "      <th>Unnamed: 0</th>\n",
              "      <td>1.000000</td>\n",
              "      <td>1.000000</td>\n",
              "      <td>6.094682e-04</td>\n",
              "      <td>-4.005371e-04</td>\n",
              "      <td>-0.018598</td>\n",
              "      <td>-0.093933</td>\n",
              "      <td>7.931118e-02</td>\n",
              "      <td>0.096850</td>\n",
              "      <td>0.210886</td>\n",
              "      <td>0.104870</td>\n",
              "      <td>...</td>\n",
              "      <td>6.503866e-01</td>\n",
              "      <td>-0.152843</td>\n",
              "      <td>0.030511</td>\n",
              "      <td>-0.000298</td>\n",
              "      <td>0.033836</td>\n",
              "      <td>0.033836</td>\n",
              "      <td>0.033836</td>\n",
              "      <td>0.033836</td>\n",
              "      <td>0.033836</td>\n",
              "      <td>0.033836</td>\n",
              "    </tr>\n",
              "    <tr>\n",
              "      <th>DB</th>\n",
              "      <td>0.000609</td>\n",
              "      <td>0.000609</td>\n",
              "      <td>1.000000e+00</td>\n",
              "      <td>1.331761e-15</td>\n",
              "      <td>0.033962</td>\n",
              "      <td>0.062579</td>\n",
              "      <td>1.379561e-15</td>\n",
              "      <td>0.059879</td>\n",
              "      <td>0.049220</td>\n",
              "      <td>0.042983</td>\n",
              "      <td>...</td>\n",
              "      <td>6.693852e-16</td>\n",
              "      <td>0.092152</td>\n",
              "      <td>0.004608</td>\n",
              "      <td>0.016680</td>\n",
              "      <td>0.002784</td>\n",
              "      <td>0.002784</td>\n",
              "      <td>0.002784</td>\n",
              "      <td>0.002784</td>\n",
              "      <td>0.002784</td>\n",
              "      <td>0.002784</td>\n",
              "    </tr>\n",
              "    <tr>\n",
              "      <th>Q</th>\n",
              "      <td>-0.000401</td>\n",
              "      <td>-0.000401</td>\n",
              "      <td>1.331761e-15</td>\n",
              "      <td>1.000000e+00</td>\n",
              "      <td>0.040163</td>\n",
              "      <td>0.151447</td>\n",
              "      <td>1.233626e-16</td>\n",
              "      <td>0.136367</td>\n",
              "      <td>0.060277</td>\n",
              "      <td>0.032921</td>\n",
              "      <td>...</td>\n",
              "      <td>1.597148e-16</td>\n",
              "      <td>0.190712</td>\n",
              "      <td>0.024956</td>\n",
              "      <td>0.015287</td>\n",
              "      <td>0.025516</td>\n",
              "      <td>0.025516</td>\n",
              "      <td>0.025516</td>\n",
              "      <td>0.025516</td>\n",
              "      <td>0.025516</td>\n",
              "      <td>0.025516</td>\n",
              "    </tr>\n",
              "    <tr>\n",
              "      <th>Answer</th>\n",
              "      <td>-0.018598</td>\n",
              "      <td>-0.018598</td>\n",
              "      <td>3.396160e-02</td>\n",
              "      <td>4.016299e-02</td>\n",
              "      <td>1.000000</td>\n",
              "      <td>-0.088819</td>\n",
              "      <td>1.584809e-02</td>\n",
              "      <td>-0.090046</td>\n",
              "      <td>-0.063458</td>\n",
              "      <td>-0.086197</td>\n",
              "      <td>...</td>\n",
              "      <td>-2.678763e-02</td>\n",
              "      <td>-0.100304</td>\n",
              "      <td>-0.006997</td>\n",
              "      <td>-0.015196</td>\n",
              "      <td>-0.005636</td>\n",
              "      <td>-0.005636</td>\n",
              "      <td>-0.005636</td>\n",
              "      <td>-0.005636</td>\n",
              "      <td>-0.005636</td>\n",
              "      <td>-0.005636</td>\n",
              "    </tr>\n",
              "    <tr>\n",
              "      <th>Time</th>\n",
              "      <td>-0.093933</td>\n",
              "      <td>-0.093933</td>\n",
              "      <td>6.257897e-02</td>\n",
              "      <td>1.514471e-01</td>\n",
              "      <td>-0.088819</td>\n",
              "      <td>1.000000</td>\n",
              "      <td>-3.756513e-02</td>\n",
              "      <td>0.278510</td>\n",
              "      <td>0.153653</td>\n",
              "      <td>0.199559</td>\n",
              "      <td>...</td>\n",
              "      <td>5.724455e-02</td>\n",
              "      <td>0.869996</td>\n",
              "      <td>0.077013</td>\n",
              "      <td>0.058924</td>\n",
              "      <td>0.077105</td>\n",
              "      <td>0.077105</td>\n",
              "      <td>0.077105</td>\n",
              "      <td>0.077105</td>\n",
              "      <td>0.077105</td>\n",
              "      <td>0.077105</td>\n",
              "    </tr>\n",
              "    <tr>\n",
              "      <th>SGLT</th>\n",
              "      <td>0.079311</td>\n",
              "      <td>0.079311</td>\n",
              "      <td>1.379561e-15</td>\n",
              "      <td>1.233626e-16</td>\n",
              "      <td>0.015848</td>\n",
              "      <td>-0.037565</td>\n",
              "      <td>1.000000e+00</td>\n",
              "      <td>0.140935</td>\n",
              "      <td>0.091745</td>\n",
              "      <td>0.061312</td>\n",
              "      <td>...</td>\n",
              "      <td>-1.875001e-01</td>\n",
              "      <td>-0.077774</td>\n",
              "      <td>-0.031865</td>\n",
              "      <td>-0.069205</td>\n",
              "      <td>-0.025669</td>\n",
              "      <td>-0.025669</td>\n",
              "      <td>-0.025669</td>\n",
              "      <td>-0.025669</td>\n",
              "      <td>-0.025669</td>\n",
              "      <td>-0.025669</td>\n",
              "    </tr>\n",
              "    <tr>\n",
              "      <th>mental</th>\n",
              "      <td>0.096850</td>\n",
              "      <td>0.096850</td>\n",
              "      <td>5.987852e-02</td>\n",
              "      <td>1.363674e-01</td>\n",
              "      <td>-0.090046</td>\n",
              "      <td>0.278510</td>\n",
              "      <td>1.409353e-01</td>\n",
              "      <td>1.000000</td>\n",
              "      <td>0.660107</td>\n",
              "      <td>0.642688</td>\n",
              "      <td>...</td>\n",
              "      <td>1.448186e-01</td>\n",
              "      <td>0.288211</td>\n",
              "      <td>0.043424</td>\n",
              "      <td>0.044388</td>\n",
              "      <td>0.041924</td>\n",
              "      <td>0.041924</td>\n",
              "      <td>0.041924</td>\n",
              "      <td>0.041924</td>\n",
              "      <td>0.041924</td>\n",
              "      <td>0.041924</td>\n",
              "    </tr>\n",
              "    <tr>\n",
              "      <th>physical</th>\n",
              "      <td>0.210886</td>\n",
              "      <td>0.210886</td>\n",
              "      <td>4.921953e-02</td>\n",
              "      <td>6.027688e-02</td>\n",
              "      <td>-0.063458</td>\n",
              "      <td>0.153653</td>\n",
              "      <td>9.174464e-02</td>\n",
              "      <td>0.660107</td>\n",
              "      <td>1.000000</td>\n",
              "      <td>0.570499</td>\n",
              "      <td>...</td>\n",
              "      <td>1.856717e-01</td>\n",
              "      <td>0.121106</td>\n",
              "      <td>0.104300</td>\n",
              "      <td>0.082942</td>\n",
              "      <td>0.103988</td>\n",
              "      <td>0.103988</td>\n",
              "      <td>0.103988</td>\n",
              "      <td>0.103988</td>\n",
              "      <td>0.103988</td>\n",
              "      <td>0.103988</td>\n",
              "    </tr>\n",
              "    <tr>\n",
              "      <th>temporal</th>\n",
              "      <td>0.104870</td>\n",
              "      <td>0.104870</td>\n",
              "      <td>4.298258e-02</td>\n",
              "      <td>3.292149e-02</td>\n",
              "      <td>-0.086197</td>\n",
              "      <td>0.199559</td>\n",
              "      <td>6.131173e-02</td>\n",
              "      <td>0.642688</td>\n",
              "      <td>0.570499</td>\n",
              "      <td>1.000000</td>\n",
              "      <td>...</td>\n",
              "      <td>2.169384e-01</td>\n",
              "      <td>0.192435</td>\n",
              "      <td>0.016330</td>\n",
              "      <td>0.029728</td>\n",
              "      <td>0.013953</td>\n",
              "      <td>0.013953</td>\n",
              "      <td>0.013953</td>\n",
              "      <td>0.013953</td>\n",
              "      <td>0.013953</td>\n",
              "      <td>0.013953</td>\n",
              "    </tr>\n",
              "    <tr>\n",
              "      <th>performance</th>\n",
              "      <td>0.084158</td>\n",
              "      <td>0.084158</td>\n",
              "      <td>-9.168731e-02</td>\n",
              "      <td>-6.705400e-02</td>\n",
              "      <td>0.215676</td>\n",
              "      <td>-0.006605</td>\n",
              "      <td>-1.897852e-02</td>\n",
              "      <td>-0.124182</td>\n",
              "      <td>-0.059247</td>\n",
              "      <td>-0.096979</td>\n",
              "      <td>...</td>\n",
              "      <td>1.809674e-01</td>\n",
              "      <td>-0.009544</td>\n",
              "      <td>0.012547</td>\n",
              "      <td>0.005420</td>\n",
              "      <td>0.013143</td>\n",
              "      <td>0.013143</td>\n",
              "      <td>0.013143</td>\n",
              "      <td>0.013143</td>\n",
              "      <td>0.013143</td>\n",
              "      <td>0.013143</td>\n",
              "    </tr>\n",
              "    <tr>\n",
              "      <th>effort</th>\n",
              "      <td>0.074179</td>\n",
              "      <td>0.074179</td>\n",
              "      <td>6.037232e-02</td>\n",
              "      <td>1.196228e-01</td>\n",
              "      <td>-0.074468</td>\n",
              "      <td>0.309682</td>\n",
              "      <td>9.084486e-02</td>\n",
              "      <td>0.753028</td>\n",
              "      <td>0.613784</td>\n",
              "      <td>0.614736</td>\n",
              "      <td>...</td>\n",
              "      <td>1.764504e-01</td>\n",
              "      <td>0.323993</td>\n",
              "      <td>0.070408</td>\n",
              "      <td>0.076161</td>\n",
              "      <td>0.067391</td>\n",
              "      <td>0.067391</td>\n",
              "      <td>0.067391</td>\n",
              "      <td>0.067391</td>\n",
              "      <td>0.067391</td>\n",
              "      <td>0.067391</td>\n",
              "    </tr>\n",
              "    <tr>\n",
              "      <th>frustration</th>\n",
              "      <td>0.042569</td>\n",
              "      <td>0.042569</td>\n",
              "      <td>5.981779e-02</td>\n",
              "      <td>9.105536e-02</td>\n",
              "      <td>-0.149743</td>\n",
              "      <td>0.308919</td>\n",
              "      <td>1.059479e-01</td>\n",
              "      <td>0.502865</td>\n",
              "      <td>0.451494</td>\n",
              "      <td>0.525623</td>\n",
              "      <td>...</td>\n",
              "      <td>1.513682e-01</td>\n",
              "      <td>0.317023</td>\n",
              "      <td>-0.004310</td>\n",
              "      <td>0.000313</td>\n",
              "      <td>-0.004817</td>\n",
              "      <td>-0.004817</td>\n",
              "      <td>-0.004817</td>\n",
              "      <td>-0.004817</td>\n",
              "      <td>-0.004817</td>\n",
              "      <td>-0.004817</td>\n",
              "    </tr>\n",
              "    <tr>\n",
              "      <th>avg_others</th>\n",
              "      <td>0.122395</td>\n",
              "      <td>0.122395</td>\n",
              "      <td>6.679472e-02</td>\n",
              "      <td>1.087853e-01</td>\n",
              "      <td>-0.116017</td>\n",
              "      <td>0.310996</td>\n",
              "      <td>1.200237e-01</td>\n",
              "      <td>0.860949</td>\n",
              "      <td>0.782280</td>\n",
              "      <td>0.813334</td>\n",
              "      <td>...</td>\n",
              "      <td>2.118181e-01</td>\n",
              "      <td>0.310819</td>\n",
              "      <td>0.052405</td>\n",
              "      <td>0.054193</td>\n",
              "      <td>0.050507</td>\n",
              "      <td>0.050507</td>\n",
              "      <td>0.050507</td>\n",
              "      <td>0.050507</td>\n",
              "      <td>0.050507</td>\n",
              "      <td>0.050507</td>\n",
              "    </tr>\n",
              "    <tr>\n",
              "      <th>avg_dep_var</th>\n",
              "      <td>0.150536</td>\n",
              "      <td>0.150536</td>\n",
              "      <td>3.719412e-02</td>\n",
              "      <td>8.743339e-02</td>\n",
              "      <td>-0.046196</td>\n",
              "      <td>0.310392</td>\n",
              "      <td>1.144192e-01</td>\n",
              "      <td>0.824772</td>\n",
              "      <td>0.766945</td>\n",
              "      <td>0.785817</td>\n",
              "      <td>...</td>\n",
              "      <td>2.720529e-01</td>\n",
              "      <td>0.309272</td>\n",
              "      <td>0.056786</td>\n",
              "      <td>0.056286</td>\n",
              "      <td>0.055068</td>\n",
              "      <td>0.055068</td>\n",
              "      <td>0.055068</td>\n",
              "      <td>0.055068</td>\n",
              "      <td>0.055068</td>\n",
              "      <td>0.055068</td>\n",
              "    </tr>\n",
              "    <tr>\n",
              "      <th>Timestamp</th>\n",
              "      <td>0.954992</td>\n",
              "      <td>0.954992</td>\n",
              "      <td>2.817499e-13</td>\n",
              "      <td>5.407761e-14</td>\n",
              "      <td>-0.022053</td>\n",
              "      <td>-0.059321</td>\n",
              "      <td>6.574324e-02</td>\n",
              "      <td>0.041127</td>\n",
              "      <td>0.164074</td>\n",
              "      <td>0.071132</td>\n",
              "      <td>...</td>\n",
              "      <td>6.228146e-01</td>\n",
              "      <td>-0.121054</td>\n",
              "      <td>0.024584</td>\n",
              "      <td>-0.007536</td>\n",
              "      <td>0.028277</td>\n",
              "      <td>0.028277</td>\n",
              "      <td>0.028277</td>\n",
              "      <td>0.028277</td>\n",
              "      <td>0.028277</td>\n",
              "      <td>0.028277</td>\n",
              "    </tr>\n",
              "    <tr>\n",
              "      <th>User</th>\n",
              "      <td>0.650387</td>\n",
              "      <td>0.650387</td>\n",
              "      <td>6.693852e-16</td>\n",
              "      <td>1.597148e-16</td>\n",
              "      <td>-0.026788</td>\n",
              "      <td>0.057245</td>\n",
              "      <td>-1.875001e-01</td>\n",
              "      <td>0.144819</td>\n",
              "      <td>0.185672</td>\n",
              "      <td>0.216938</td>\n",
              "      <td>...</td>\n",
              "      <td>1.000000e+00</td>\n",
              "      <td>0.014789</td>\n",
              "      <td>0.088330</td>\n",
              "      <td>0.048730</td>\n",
              "      <td>0.091058</td>\n",
              "      <td>0.091058</td>\n",
              "      <td>0.091058</td>\n",
              "      <td>0.091058</td>\n",
              "      <td>0.091058</td>\n",
              "      <td>0.091058</td>\n",
              "    </tr>\n",
              "    <tr>\n",
              "      <th>quartile_classification</th>\n",
              "      <td>-0.152843</td>\n",
              "      <td>-0.152843</td>\n",
              "      <td>9.215150e-02</td>\n",
              "      <td>1.907122e-01</td>\n",
              "      <td>-0.100304</td>\n",
              "      <td>0.869996</td>\n",
              "      <td>-7.777423e-02</td>\n",
              "      <td>0.288211</td>\n",
              "      <td>0.121106</td>\n",
              "      <td>0.192435</td>\n",
              "      <td>...</td>\n",
              "      <td>1.478885e-02</td>\n",
              "      <td>1.000000</td>\n",
              "      <td>0.091964</td>\n",
              "      <td>0.065945</td>\n",
              "      <td>0.092688</td>\n",
              "      <td>0.092688</td>\n",
              "      <td>0.092688</td>\n",
              "      <td>0.092688</td>\n",
              "      <td>0.092688</td>\n",
              "      <td>0.092688</td>\n",
              "    </tr>\n",
              "    <tr>\n",
              "      <th>Count</th>\n",
              "      <td>0.030511</td>\n",
              "      <td>0.030511</td>\n",
              "      <td>4.608052e-03</td>\n",
              "      <td>2.495615e-02</td>\n",
              "      <td>-0.006997</td>\n",
              "      <td>0.077013</td>\n",
              "      <td>-3.186513e-02</td>\n",
              "      <td>0.043424</td>\n",
              "      <td>0.104300</td>\n",
              "      <td>0.016330</td>\n",
              "      <td>...</td>\n",
              "      <td>8.833033e-02</td>\n",
              "      <td>0.091964</td>\n",
              "      <td>1.000000</td>\n",
              "      <td>0.798912</td>\n",
              "      <td>0.996495</td>\n",
              "      <td>0.996495</td>\n",
              "      <td>0.996495</td>\n",
              "      <td>0.996495</td>\n",
              "      <td>0.996495</td>\n",
              "      <td>0.996495</td>\n",
              "    </tr>\n",
              "    <tr>\n",
              "      <th>Pattern1</th>\n",
              "      <td>-0.000298</td>\n",
              "      <td>-0.000298</td>\n",
              "      <td>1.667974e-02</td>\n",
              "      <td>1.528723e-02</td>\n",
              "      <td>-0.015196</td>\n",
              "      <td>0.058924</td>\n",
              "      <td>-6.920522e-02</td>\n",
              "      <td>0.044388</td>\n",
              "      <td>0.082942</td>\n",
              "      <td>0.029728</td>\n",
              "      <td>...</td>\n",
              "      <td>4.872975e-02</td>\n",
              "      <td>0.065945</td>\n",
              "      <td>0.798912</td>\n",
              "      <td>1.000000</td>\n",
              "      <td>0.745798</td>\n",
              "      <td>0.745798</td>\n",
              "      <td>0.745798</td>\n",
              "      <td>0.745798</td>\n",
              "      <td>0.745798</td>\n",
              "      <td>0.745798</td>\n",
              "    </tr>\n",
              "    <tr>\n",
              "      <th>Pattern2</th>\n",
              "      <td>0.033836</td>\n",
              "      <td>0.033836</td>\n",
              "      <td>2.783971e-03</td>\n",
              "      <td>2.551552e-02</td>\n",
              "      <td>-0.005636</td>\n",
              "      <td>0.077105</td>\n",
              "      <td>-2.566858e-02</td>\n",
              "      <td>0.041924</td>\n",
              "      <td>0.103988</td>\n",
              "      <td>0.013953</td>\n",
              "      <td>...</td>\n",
              "      <td>9.105821e-02</td>\n",
              "      <td>0.092688</td>\n",
              "      <td>0.996495</td>\n",
              "      <td>0.745798</td>\n",
              "      <td>1.000000</td>\n",
              "      <td>1.000000</td>\n",
              "      <td>1.000000</td>\n",
              "      <td>1.000000</td>\n",
              "      <td>1.000000</td>\n",
              "      <td>1.000000</td>\n",
              "    </tr>\n",
              "    <tr>\n",
              "      <th>Pattern3</th>\n",
              "      <td>0.033836</td>\n",
              "      <td>0.033836</td>\n",
              "      <td>2.783971e-03</td>\n",
              "      <td>2.551552e-02</td>\n",
              "      <td>-0.005636</td>\n",
              "      <td>0.077105</td>\n",
              "      <td>-2.566858e-02</td>\n",
              "      <td>0.041924</td>\n",
              "      <td>0.103988</td>\n",
              "      <td>0.013953</td>\n",
              "      <td>...</td>\n",
              "      <td>9.105821e-02</td>\n",
              "      <td>0.092688</td>\n",
              "      <td>0.996495</td>\n",
              "      <td>0.745798</td>\n",
              "      <td>1.000000</td>\n",
              "      <td>1.000000</td>\n",
              "      <td>1.000000</td>\n",
              "      <td>1.000000</td>\n",
              "      <td>1.000000</td>\n",
              "      <td>1.000000</td>\n",
              "    </tr>\n",
              "    <tr>\n",
              "      <th>Pattern4</th>\n",
              "      <td>0.033836</td>\n",
              "      <td>0.033836</td>\n",
              "      <td>2.783971e-03</td>\n",
              "      <td>2.551552e-02</td>\n",
              "      <td>-0.005636</td>\n",
              "      <td>0.077105</td>\n",
              "      <td>-2.566858e-02</td>\n",
              "      <td>0.041924</td>\n",
              "      <td>0.103988</td>\n",
              "      <td>0.013953</td>\n",
              "      <td>...</td>\n",
              "      <td>9.105821e-02</td>\n",
              "      <td>0.092688</td>\n",
              "      <td>0.996495</td>\n",
              "      <td>0.745798</td>\n",
              "      <td>1.000000</td>\n",
              "      <td>1.000000</td>\n",
              "      <td>1.000000</td>\n",
              "      <td>1.000000</td>\n",
              "      <td>1.000000</td>\n",
              "      <td>1.000000</td>\n",
              "    </tr>\n",
              "    <tr>\n",
              "      <th>Pattern5</th>\n",
              "      <td>0.033836</td>\n",
              "      <td>0.033836</td>\n",
              "      <td>2.783971e-03</td>\n",
              "      <td>2.551552e-02</td>\n",
              "      <td>-0.005636</td>\n",
              "      <td>0.077105</td>\n",
              "      <td>-2.566858e-02</td>\n",
              "      <td>0.041924</td>\n",
              "      <td>0.103988</td>\n",
              "      <td>0.013953</td>\n",
              "      <td>...</td>\n",
              "      <td>9.105821e-02</td>\n",
              "      <td>0.092688</td>\n",
              "      <td>0.996495</td>\n",
              "      <td>0.745798</td>\n",
              "      <td>1.000000</td>\n",
              "      <td>1.000000</td>\n",
              "      <td>1.000000</td>\n",
              "      <td>1.000000</td>\n",
              "      <td>1.000000</td>\n",
              "      <td>1.000000</td>\n",
              "    </tr>\n",
              "    <tr>\n",
              "      <th>Pattern6</th>\n",
              "      <td>0.033836</td>\n",
              "      <td>0.033836</td>\n",
              "      <td>2.783971e-03</td>\n",
              "      <td>2.551552e-02</td>\n",
              "      <td>-0.005636</td>\n",
              "      <td>0.077105</td>\n",
              "      <td>-2.566858e-02</td>\n",
              "      <td>0.041924</td>\n",
              "      <td>0.103988</td>\n",
              "      <td>0.013953</td>\n",
              "      <td>...</td>\n",
              "      <td>9.105821e-02</td>\n",
              "      <td>0.092688</td>\n",
              "      <td>0.996495</td>\n",
              "      <td>0.745798</td>\n",
              "      <td>1.000000</td>\n",
              "      <td>1.000000</td>\n",
              "      <td>1.000000</td>\n",
              "      <td>1.000000</td>\n",
              "      <td>1.000000</td>\n",
              "      <td>1.000000</td>\n",
              "    </tr>\n",
              "    <tr>\n",
              "      <th>Pattern7</th>\n",
              "      <td>0.033836</td>\n",
              "      <td>0.033836</td>\n",
              "      <td>2.783971e-03</td>\n",
              "      <td>2.551552e-02</td>\n",
              "      <td>-0.005636</td>\n",
              "      <td>0.077105</td>\n",
              "      <td>-2.566858e-02</td>\n",
              "      <td>0.041924</td>\n",
              "      <td>0.103988</td>\n",
              "      <td>0.013953</td>\n",
              "      <td>...</td>\n",
              "      <td>9.105821e-02</td>\n",
              "      <td>0.092688</td>\n",
              "      <td>0.996495</td>\n",
              "      <td>0.745798</td>\n",
              "      <td>1.000000</td>\n",
              "      <td>1.000000</td>\n",
              "      <td>1.000000</td>\n",
              "      <td>1.000000</td>\n",
              "      <td>1.000000</td>\n",
              "      <td>1.000000</td>\n",
              "    </tr>\n",
              "  </tbody>\n",
              "</table>\n",
              "<p>26 rows × 26 columns</p>\n",
              "</div>"
            ],
            "text/plain": [
              "                            index  Unnamed: 0            DB             Q  \\\n",
              "index                    1.000000    1.000000  6.094682e-04 -4.005371e-04   \n",
              "Unnamed: 0               1.000000    1.000000  6.094682e-04 -4.005371e-04   \n",
              "DB                       0.000609    0.000609  1.000000e+00  1.331761e-15   \n",
              "Q                       -0.000401   -0.000401  1.331761e-15  1.000000e+00   \n",
              "Answer                  -0.018598   -0.018598  3.396160e-02  4.016299e-02   \n",
              "Time                    -0.093933   -0.093933  6.257897e-02  1.514471e-01   \n",
              "SGLT                     0.079311    0.079311  1.379561e-15  1.233626e-16   \n",
              "mental                   0.096850    0.096850  5.987852e-02  1.363674e-01   \n",
              "physical                 0.210886    0.210886  4.921953e-02  6.027688e-02   \n",
              "temporal                 0.104870    0.104870  4.298258e-02  3.292149e-02   \n",
              "performance              0.084158    0.084158 -9.168731e-02 -6.705400e-02   \n",
              "effort                   0.074179    0.074179  6.037232e-02  1.196228e-01   \n",
              "frustration              0.042569    0.042569  5.981779e-02  9.105536e-02   \n",
              "avg_others               0.122395    0.122395  6.679472e-02  1.087853e-01   \n",
              "avg_dep_var              0.150536    0.150536  3.719412e-02  8.743339e-02   \n",
              "Timestamp                0.954992    0.954992  2.817499e-13  5.407761e-14   \n",
              "User                     0.650387    0.650387  6.693852e-16  1.597148e-16   \n",
              "quartile_classification -0.152843   -0.152843  9.215150e-02  1.907122e-01   \n",
              "Count                    0.030511    0.030511  4.608052e-03  2.495615e-02   \n",
              "Pattern1                -0.000298   -0.000298  1.667974e-02  1.528723e-02   \n",
              "Pattern2                 0.033836    0.033836  2.783971e-03  2.551552e-02   \n",
              "Pattern3                 0.033836    0.033836  2.783971e-03  2.551552e-02   \n",
              "Pattern4                 0.033836    0.033836  2.783971e-03  2.551552e-02   \n",
              "Pattern5                 0.033836    0.033836  2.783971e-03  2.551552e-02   \n",
              "Pattern6                 0.033836    0.033836  2.783971e-03  2.551552e-02   \n",
              "Pattern7                 0.033836    0.033836  2.783971e-03  2.551552e-02   \n",
              "\n",
              "                           Answer      Time          SGLT    mental  physical  \\\n",
              "index                   -0.018598 -0.093933  7.931118e-02  0.096850  0.210886   \n",
              "Unnamed: 0              -0.018598 -0.093933  7.931118e-02  0.096850  0.210886   \n",
              "DB                       0.033962  0.062579  1.379561e-15  0.059879  0.049220   \n",
              "Q                        0.040163  0.151447  1.233626e-16  0.136367  0.060277   \n",
              "Answer                   1.000000 -0.088819  1.584809e-02 -0.090046 -0.063458   \n",
              "Time                    -0.088819  1.000000 -3.756513e-02  0.278510  0.153653   \n",
              "SGLT                     0.015848 -0.037565  1.000000e+00  0.140935  0.091745   \n",
              "mental                  -0.090046  0.278510  1.409353e-01  1.000000  0.660107   \n",
              "physical                -0.063458  0.153653  9.174464e-02  0.660107  1.000000   \n",
              "temporal                -0.086197  0.199559  6.131173e-02  0.642688  0.570499   \n",
              "performance              0.215676 -0.006605 -1.897852e-02 -0.124182 -0.059247   \n",
              "effort                  -0.074468  0.309682  9.084486e-02  0.753028  0.613784   \n",
              "frustration             -0.149743  0.308919  1.059479e-01  0.502865  0.451494   \n",
              "avg_others              -0.116017  0.310996  1.200237e-01  0.860949  0.782280   \n",
              "avg_dep_var             -0.046196  0.310392  1.144192e-01  0.824772  0.766945   \n",
              "Timestamp               -0.022053 -0.059321  6.574324e-02  0.041127  0.164074   \n",
              "User                    -0.026788  0.057245 -1.875001e-01  0.144819  0.185672   \n",
              "quartile_classification -0.100304  0.869996 -7.777423e-02  0.288211  0.121106   \n",
              "Count                   -0.006997  0.077013 -3.186513e-02  0.043424  0.104300   \n",
              "Pattern1                -0.015196  0.058924 -6.920522e-02  0.044388  0.082942   \n",
              "Pattern2                -0.005636  0.077105 -2.566858e-02  0.041924  0.103988   \n",
              "Pattern3                -0.005636  0.077105 -2.566858e-02  0.041924  0.103988   \n",
              "Pattern4                -0.005636  0.077105 -2.566858e-02  0.041924  0.103988   \n",
              "Pattern5                -0.005636  0.077105 -2.566858e-02  0.041924  0.103988   \n",
              "Pattern6                -0.005636  0.077105 -2.566858e-02  0.041924  0.103988   \n",
              "Pattern7                -0.005636  0.077105 -2.566858e-02  0.041924  0.103988   \n",
              "\n",
              "                         temporal  ...          User  quartile_classification  \\\n",
              "index                    0.104870  ...  6.503866e-01                -0.152843   \n",
              "Unnamed: 0               0.104870  ...  6.503866e-01                -0.152843   \n",
              "DB                       0.042983  ...  6.693852e-16                 0.092152   \n",
              "Q                        0.032921  ...  1.597148e-16                 0.190712   \n",
              "Answer                  -0.086197  ... -2.678763e-02                -0.100304   \n",
              "Time                     0.199559  ...  5.724455e-02                 0.869996   \n",
              "SGLT                     0.061312  ... -1.875001e-01                -0.077774   \n",
              "mental                   0.642688  ...  1.448186e-01                 0.288211   \n",
              "physical                 0.570499  ...  1.856717e-01                 0.121106   \n",
              "temporal                 1.000000  ...  2.169384e-01                 0.192435   \n",
              "performance             -0.096979  ...  1.809674e-01                -0.009544   \n",
              "effort                   0.614736  ...  1.764504e-01                 0.323993   \n",
              "frustration              0.525623  ...  1.513682e-01                 0.317023   \n",
              "avg_others               0.813334  ...  2.118181e-01                 0.310819   \n",
              "avg_dep_var              0.785817  ...  2.720529e-01                 0.309272   \n",
              "Timestamp                0.071132  ...  6.228146e-01                -0.121054   \n",
              "User                     0.216938  ...  1.000000e+00                 0.014789   \n",
              "quartile_classification  0.192435  ...  1.478885e-02                 1.000000   \n",
              "Count                    0.016330  ...  8.833033e-02                 0.091964   \n",
              "Pattern1                 0.029728  ...  4.872975e-02                 0.065945   \n",
              "Pattern2                 0.013953  ...  9.105821e-02                 0.092688   \n",
              "Pattern3                 0.013953  ...  9.105821e-02                 0.092688   \n",
              "Pattern4                 0.013953  ...  9.105821e-02                 0.092688   \n",
              "Pattern5                 0.013953  ...  9.105821e-02                 0.092688   \n",
              "Pattern6                 0.013953  ...  9.105821e-02                 0.092688   \n",
              "Pattern7                 0.013953  ...  9.105821e-02                 0.092688   \n",
              "\n",
              "                            Count  Pattern1  Pattern2  Pattern3  Pattern4  \\\n",
              "index                    0.030511 -0.000298  0.033836  0.033836  0.033836   \n",
              "Unnamed: 0               0.030511 -0.000298  0.033836  0.033836  0.033836   \n",
              "DB                       0.004608  0.016680  0.002784  0.002784  0.002784   \n",
              "Q                        0.024956  0.015287  0.025516  0.025516  0.025516   \n",
              "Answer                  -0.006997 -0.015196 -0.005636 -0.005636 -0.005636   \n",
              "Time                     0.077013  0.058924  0.077105  0.077105  0.077105   \n",
              "SGLT                    -0.031865 -0.069205 -0.025669 -0.025669 -0.025669   \n",
              "mental                   0.043424  0.044388  0.041924  0.041924  0.041924   \n",
              "physical                 0.104300  0.082942  0.103988  0.103988  0.103988   \n",
              "temporal                 0.016330  0.029728  0.013953  0.013953  0.013953   \n",
              "performance              0.012547  0.005420  0.013143  0.013143  0.013143   \n",
              "effort                   0.070408  0.076161  0.067391  0.067391  0.067391   \n",
              "frustration             -0.004310  0.000313 -0.004817 -0.004817 -0.004817   \n",
              "avg_others               0.052405  0.054193  0.050507  0.050507  0.050507   \n",
              "avg_dep_var              0.056786  0.056286  0.055068  0.055068  0.055068   \n",
              "Timestamp                0.024584 -0.007536  0.028277  0.028277  0.028277   \n",
              "User                     0.088330  0.048730  0.091058  0.091058  0.091058   \n",
              "quartile_classification  0.091964  0.065945  0.092688  0.092688  0.092688   \n",
              "Count                    1.000000  0.798912  0.996495  0.996495  0.996495   \n",
              "Pattern1                 0.798912  1.000000  0.745798  0.745798  0.745798   \n",
              "Pattern2                 0.996495  0.745798  1.000000  1.000000  1.000000   \n",
              "Pattern3                 0.996495  0.745798  1.000000  1.000000  1.000000   \n",
              "Pattern4                 0.996495  0.745798  1.000000  1.000000  1.000000   \n",
              "Pattern5                 0.996495  0.745798  1.000000  1.000000  1.000000   \n",
              "Pattern6                 0.996495  0.745798  1.000000  1.000000  1.000000   \n",
              "Pattern7                 0.996495  0.745798  1.000000  1.000000  1.000000   \n",
              "\n",
              "                         Pattern5  Pattern6  Pattern7  \n",
              "index                    0.033836  0.033836  0.033836  \n",
              "Unnamed: 0               0.033836  0.033836  0.033836  \n",
              "DB                       0.002784  0.002784  0.002784  \n",
              "Q                        0.025516  0.025516  0.025516  \n",
              "Answer                  -0.005636 -0.005636 -0.005636  \n",
              "Time                     0.077105  0.077105  0.077105  \n",
              "SGLT                    -0.025669 -0.025669 -0.025669  \n",
              "mental                   0.041924  0.041924  0.041924  \n",
              "physical                 0.103988  0.103988  0.103988  \n",
              "temporal                 0.013953  0.013953  0.013953  \n",
              "performance              0.013143  0.013143  0.013143  \n",
              "effort                   0.067391  0.067391  0.067391  \n",
              "frustration             -0.004817 -0.004817 -0.004817  \n",
              "avg_others               0.050507  0.050507  0.050507  \n",
              "avg_dep_var              0.055068  0.055068  0.055068  \n",
              "Timestamp                0.028277  0.028277  0.028277  \n",
              "User                     0.091058  0.091058  0.091058  \n",
              "quartile_classification  0.092688  0.092688  0.092688  \n",
              "Count                    0.996495  0.996495  0.996495  \n",
              "Pattern1                 0.745798  0.745798  0.745798  \n",
              "Pattern2                 1.000000  1.000000  1.000000  \n",
              "Pattern3                 1.000000  1.000000  1.000000  \n",
              "Pattern4                 1.000000  1.000000  1.000000  \n",
              "Pattern5                 1.000000  1.000000  1.000000  \n",
              "Pattern6                 1.000000  1.000000  1.000000  \n",
              "Pattern7                 1.000000  1.000000  1.000000  \n",
              "\n",
              "[26 rows x 26 columns]"
            ]
          },
          "execution_count": 38,
          "metadata": {},
          "output_type": "execute_result"
        }
      ],
      "source": [
        "corl = df.corr()\n",
        "corl"
      ]
    },
    {
      "cell_type": "code",
      "execution_count": 39,
      "metadata": {
        "id": "hjR7JlWvCAQo"
      },
      "outputs": [],
      "source": [
        "correlation_matrix1 = df[pattern_factors].corr(method='pearson').round(3)\n",
        "\n",
        "correlation_matrix2 = df[pattern_factors].corr(method='spearman').round(3)"
      ]
    },
    {
      "cell_type": "code",
      "execution_count": 40,
      "metadata": {
        "colab": {
          "base_uri": "https://localhost:8080/",
          "height": 362
        },
        "id": "qFES44FBtVx1",
        "outputId": "e4cb8c12-b347-41cb-a4e8-8a1ce8f62495"
      },
      "outputs": [
        {
          "data": {
            "text/html": [
              "<div>\n",
              "<style scoped>\n",
              "    .dataframe tbody tr th:only-of-type {\n",
              "        vertical-align: middle;\n",
              "    }\n",
              "\n",
              "    .dataframe tbody tr th {\n",
              "        vertical-align: top;\n",
              "    }\n",
              "\n",
              "    .dataframe thead th {\n",
              "        text-align: right;\n",
              "    }\n",
              "</style>\n",
              "<table border=\"1\" class=\"dataframe\">\n",
              "  <thead>\n",
              "    <tr style=\"text-align: right;\">\n",
              "      <th></th>\n",
              "      <th>Count</th>\n",
              "      <th>mental</th>\n",
              "      <th>physical</th>\n",
              "      <th>temporal</th>\n",
              "      <th>performance</th>\n",
              "      <th>effort</th>\n",
              "      <th>frustration</th>\n",
              "      <th>Answer</th>\n",
              "      <th>quartile_classification</th>\n",
              "      <th>SGLT</th>\n",
              "    </tr>\n",
              "  </thead>\n",
              "  <tbody>\n",
              "    <tr>\n",
              "      <th>Count</th>\n",
              "      <td>1.000</td>\n",
              "      <td>0.043</td>\n",
              "      <td>0.104</td>\n",
              "      <td>0.016</td>\n",
              "      <td>0.013</td>\n",
              "      <td>0.070</td>\n",
              "      <td>-0.004</td>\n",
              "      <td>-0.007</td>\n",
              "      <td>0.092</td>\n",
              "      <td>-0.032</td>\n",
              "    </tr>\n",
              "    <tr>\n",
              "      <th>mental</th>\n",
              "      <td>0.043</td>\n",
              "      <td>1.000</td>\n",
              "      <td>0.660</td>\n",
              "      <td>0.643</td>\n",
              "      <td>-0.124</td>\n",
              "      <td>0.753</td>\n",
              "      <td>0.503</td>\n",
              "      <td>-0.090</td>\n",
              "      <td>0.288</td>\n",
              "      <td>0.141</td>\n",
              "    </tr>\n",
              "    <tr>\n",
              "      <th>physical</th>\n",
              "      <td>0.104</td>\n",
              "      <td>0.660</td>\n",
              "      <td>1.000</td>\n",
              "      <td>0.570</td>\n",
              "      <td>-0.059</td>\n",
              "      <td>0.614</td>\n",
              "      <td>0.451</td>\n",
              "      <td>-0.063</td>\n",
              "      <td>0.121</td>\n",
              "      <td>0.092</td>\n",
              "    </tr>\n",
              "    <tr>\n",
              "      <th>temporal</th>\n",
              "      <td>0.016</td>\n",
              "      <td>0.643</td>\n",
              "      <td>0.570</td>\n",
              "      <td>1.000</td>\n",
              "      <td>-0.097</td>\n",
              "      <td>0.615</td>\n",
              "      <td>0.526</td>\n",
              "      <td>-0.086</td>\n",
              "      <td>0.192</td>\n",
              "      <td>0.061</td>\n",
              "    </tr>\n",
              "    <tr>\n",
              "      <th>performance</th>\n",
              "      <td>0.013</td>\n",
              "      <td>-0.124</td>\n",
              "      <td>-0.059</td>\n",
              "      <td>-0.097</td>\n",
              "      <td>1.000</td>\n",
              "      <td>-0.123</td>\n",
              "      <td>-0.293</td>\n",
              "      <td>0.216</td>\n",
              "      <td>-0.010</td>\n",
              "      <td>-0.019</td>\n",
              "    </tr>\n",
              "    <tr>\n",
              "      <th>effort</th>\n",
              "      <td>0.070</td>\n",
              "      <td>0.753</td>\n",
              "      <td>0.614</td>\n",
              "      <td>0.615</td>\n",
              "      <td>-0.123</td>\n",
              "      <td>1.000</td>\n",
              "      <td>0.606</td>\n",
              "      <td>-0.074</td>\n",
              "      <td>0.324</td>\n",
              "      <td>0.091</td>\n",
              "    </tr>\n",
              "    <tr>\n",
              "      <th>frustration</th>\n",
              "      <td>-0.004</td>\n",
              "      <td>0.503</td>\n",
              "      <td>0.451</td>\n",
              "      <td>0.526</td>\n",
              "      <td>-0.293</td>\n",
              "      <td>0.606</td>\n",
              "      <td>1.000</td>\n",
              "      <td>-0.150</td>\n",
              "      <td>0.317</td>\n",
              "      <td>0.106</td>\n",
              "    </tr>\n",
              "    <tr>\n",
              "      <th>Answer</th>\n",
              "      <td>-0.007</td>\n",
              "      <td>-0.090</td>\n",
              "      <td>-0.063</td>\n",
              "      <td>-0.086</td>\n",
              "      <td>0.216</td>\n",
              "      <td>-0.074</td>\n",
              "      <td>-0.150</td>\n",
              "      <td>1.000</td>\n",
              "      <td>-0.100</td>\n",
              "      <td>0.016</td>\n",
              "    </tr>\n",
              "    <tr>\n",
              "      <th>quartile_classification</th>\n",
              "      <td>0.092</td>\n",
              "      <td>0.288</td>\n",
              "      <td>0.121</td>\n",
              "      <td>0.192</td>\n",
              "      <td>-0.010</td>\n",
              "      <td>0.324</td>\n",
              "      <td>0.317</td>\n",
              "      <td>-0.100</td>\n",
              "      <td>1.000</td>\n",
              "      <td>-0.078</td>\n",
              "    </tr>\n",
              "    <tr>\n",
              "      <th>SGLT</th>\n",
              "      <td>-0.032</td>\n",
              "      <td>0.141</td>\n",
              "      <td>0.092</td>\n",
              "      <td>0.061</td>\n",
              "      <td>-0.019</td>\n",
              "      <td>0.091</td>\n",
              "      <td>0.106</td>\n",
              "      <td>0.016</td>\n",
              "      <td>-0.078</td>\n",
              "      <td>1.000</td>\n",
              "    </tr>\n",
              "  </tbody>\n",
              "</table>\n",
              "</div>"
            ],
            "text/plain": [
              "                         Count  mental  physical  temporal  performance  \\\n",
              "Count                    1.000   0.043     0.104     0.016        0.013   \n",
              "mental                   0.043   1.000     0.660     0.643       -0.124   \n",
              "physical                 0.104   0.660     1.000     0.570       -0.059   \n",
              "temporal                 0.016   0.643     0.570     1.000       -0.097   \n",
              "performance              0.013  -0.124    -0.059    -0.097        1.000   \n",
              "effort                   0.070   0.753     0.614     0.615       -0.123   \n",
              "frustration             -0.004   0.503     0.451     0.526       -0.293   \n",
              "Answer                  -0.007  -0.090    -0.063    -0.086        0.216   \n",
              "quartile_classification  0.092   0.288     0.121     0.192       -0.010   \n",
              "SGLT                    -0.032   0.141     0.092     0.061       -0.019   \n",
              "\n",
              "                         effort  frustration  Answer  quartile_classification  \\\n",
              "Count                     0.070       -0.004  -0.007                    0.092   \n",
              "mental                    0.753        0.503  -0.090                    0.288   \n",
              "physical                  0.614        0.451  -0.063                    0.121   \n",
              "temporal                  0.615        0.526  -0.086                    0.192   \n",
              "performance              -0.123       -0.293   0.216                   -0.010   \n",
              "effort                    1.000        0.606  -0.074                    0.324   \n",
              "frustration               0.606        1.000  -0.150                    0.317   \n",
              "Answer                   -0.074       -0.150   1.000                   -0.100   \n",
              "quartile_classification   0.324        0.317  -0.100                    1.000   \n",
              "SGLT                      0.091        0.106   0.016                   -0.078   \n",
              "\n",
              "                          SGLT  \n",
              "Count                   -0.032  \n",
              "mental                   0.141  \n",
              "physical                 0.092  \n",
              "temporal                 0.061  \n",
              "performance             -0.019  \n",
              "effort                   0.091  \n",
              "frustration              0.106  \n",
              "Answer                   0.016  \n",
              "quartile_classification -0.078  \n",
              "SGLT                     1.000  "
            ]
          },
          "execution_count": 40,
          "metadata": {},
          "output_type": "execute_result"
        }
      ],
      "source": [
        "correlation_matrix1"
      ]
    },
    {
      "cell_type": "code",
      "execution_count": 41,
      "metadata": {
        "colab": {
          "base_uri": "https://localhost:8080/",
          "height": 362
        },
        "id": "jbyKZjiCtXz_",
        "outputId": "5975731c-9bba-4cfe-f0b7-8a27421903b6"
      },
      "outputs": [
        {
          "data": {
            "text/html": [
              "<div>\n",
              "<style scoped>\n",
              "    .dataframe tbody tr th:only-of-type {\n",
              "        vertical-align: middle;\n",
              "    }\n",
              "\n",
              "    .dataframe tbody tr th {\n",
              "        vertical-align: top;\n",
              "    }\n",
              "\n",
              "    .dataframe thead th {\n",
              "        text-align: right;\n",
              "    }\n",
              "</style>\n",
              "<table border=\"1\" class=\"dataframe\">\n",
              "  <thead>\n",
              "    <tr style=\"text-align: right;\">\n",
              "      <th></th>\n",
              "      <th>Count</th>\n",
              "      <th>mental</th>\n",
              "      <th>physical</th>\n",
              "      <th>temporal</th>\n",
              "      <th>performance</th>\n",
              "      <th>effort</th>\n",
              "      <th>frustration</th>\n",
              "      <th>Answer</th>\n",
              "      <th>quartile_classification</th>\n",
              "      <th>SGLT</th>\n",
              "    </tr>\n",
              "  </thead>\n",
              "  <tbody>\n",
              "    <tr>\n",
              "      <th>Count</th>\n",
              "      <td>1.000</td>\n",
              "      <td>0.043</td>\n",
              "      <td>0.090</td>\n",
              "      <td>0.028</td>\n",
              "      <td>0.002</td>\n",
              "      <td>0.081</td>\n",
              "      <td>0.001</td>\n",
              "      <td>-0.007</td>\n",
              "      <td>0.099</td>\n",
              "      <td>-0.045</td>\n",
              "    </tr>\n",
              "    <tr>\n",
              "      <th>mental</th>\n",
              "      <td>0.043</td>\n",
              "      <td>1.000</td>\n",
              "      <td>0.655</td>\n",
              "      <td>0.631</td>\n",
              "      <td>-0.206</td>\n",
              "      <td>0.773</td>\n",
              "      <td>0.542</td>\n",
              "      <td>-0.078</td>\n",
              "      <td>0.312</td>\n",
              "      <td>0.135</td>\n",
              "    </tr>\n",
              "    <tr>\n",
              "      <th>physical</th>\n",
              "      <td>0.090</td>\n",
              "      <td>0.655</td>\n",
              "      <td>1.000</td>\n",
              "      <td>0.548</td>\n",
              "      <td>-0.090</td>\n",
              "      <td>0.622</td>\n",
              "      <td>0.498</td>\n",
              "      <td>-0.032</td>\n",
              "      <td>0.145</td>\n",
              "      <td>0.125</td>\n",
              "    </tr>\n",
              "    <tr>\n",
              "      <th>temporal</th>\n",
              "      <td>0.028</td>\n",
              "      <td>0.631</td>\n",
              "      <td>0.548</td>\n",
              "      <td>1.000</td>\n",
              "      <td>-0.163</td>\n",
              "      <td>0.608</td>\n",
              "      <td>0.548</td>\n",
              "      <td>-0.054</td>\n",
              "      <td>0.249</td>\n",
              "      <td>0.006</td>\n",
              "    </tr>\n",
              "    <tr>\n",
              "      <th>performance</th>\n",
              "      <td>0.002</td>\n",
              "      <td>-0.206</td>\n",
              "      <td>-0.090</td>\n",
              "      <td>-0.163</td>\n",
              "      <td>1.000</td>\n",
              "      <td>-0.214</td>\n",
              "      <td>-0.352</td>\n",
              "      <td>0.210</td>\n",
              "      <td>-0.032</td>\n",
              "      <td>-0.014</td>\n",
              "    </tr>\n",
              "    <tr>\n",
              "      <th>effort</th>\n",
              "      <td>0.081</td>\n",
              "      <td>0.773</td>\n",
              "      <td>0.622</td>\n",
              "      <td>0.608</td>\n",
              "      <td>-0.214</td>\n",
              "      <td>1.000</td>\n",
              "      <td>0.655</td>\n",
              "      <td>-0.056</td>\n",
              "      <td>0.336</td>\n",
              "      <td>0.081</td>\n",
              "    </tr>\n",
              "    <tr>\n",
              "      <th>frustration</th>\n",
              "      <td>0.001</td>\n",
              "      <td>0.542</td>\n",
              "      <td>0.498</td>\n",
              "      <td>0.548</td>\n",
              "      <td>-0.352</td>\n",
              "      <td>0.655</td>\n",
              "      <td>1.000</td>\n",
              "      <td>-0.134</td>\n",
              "      <td>0.305</td>\n",
              "      <td>0.126</td>\n",
              "    </tr>\n",
              "    <tr>\n",
              "      <th>Answer</th>\n",
              "      <td>-0.007</td>\n",
              "      <td>-0.078</td>\n",
              "      <td>-0.032</td>\n",
              "      <td>-0.054</td>\n",
              "      <td>0.210</td>\n",
              "      <td>-0.056</td>\n",
              "      <td>-0.134</td>\n",
              "      <td>1.000</td>\n",
              "      <td>-0.100</td>\n",
              "      <td>0.015</td>\n",
              "    </tr>\n",
              "    <tr>\n",
              "      <th>quartile_classification</th>\n",
              "      <td>0.099</td>\n",
              "      <td>0.312</td>\n",
              "      <td>0.145</td>\n",
              "      <td>0.249</td>\n",
              "      <td>-0.032</td>\n",
              "      <td>0.336</td>\n",
              "      <td>0.305</td>\n",
              "      <td>-0.100</td>\n",
              "      <td>1.000</td>\n",
              "      <td>-0.056</td>\n",
              "    </tr>\n",
              "    <tr>\n",
              "      <th>SGLT</th>\n",
              "      <td>-0.045</td>\n",
              "      <td>0.135</td>\n",
              "      <td>0.125</td>\n",
              "      <td>0.006</td>\n",
              "      <td>-0.014</td>\n",
              "      <td>0.081</td>\n",
              "      <td>0.126</td>\n",
              "      <td>0.015</td>\n",
              "      <td>-0.056</td>\n",
              "      <td>1.000</td>\n",
              "    </tr>\n",
              "  </tbody>\n",
              "</table>\n",
              "</div>"
            ],
            "text/plain": [
              "                         Count  mental  physical  temporal  performance  \\\n",
              "Count                    1.000   0.043     0.090     0.028        0.002   \n",
              "mental                   0.043   1.000     0.655     0.631       -0.206   \n",
              "physical                 0.090   0.655     1.000     0.548       -0.090   \n",
              "temporal                 0.028   0.631     0.548     1.000       -0.163   \n",
              "performance              0.002  -0.206    -0.090    -0.163        1.000   \n",
              "effort                   0.081   0.773     0.622     0.608       -0.214   \n",
              "frustration              0.001   0.542     0.498     0.548       -0.352   \n",
              "Answer                  -0.007  -0.078    -0.032    -0.054        0.210   \n",
              "quartile_classification  0.099   0.312     0.145     0.249       -0.032   \n",
              "SGLT                    -0.045   0.135     0.125     0.006       -0.014   \n",
              "\n",
              "                         effort  frustration  Answer  quartile_classification  \\\n",
              "Count                     0.081        0.001  -0.007                    0.099   \n",
              "mental                    0.773        0.542  -0.078                    0.312   \n",
              "physical                  0.622        0.498  -0.032                    0.145   \n",
              "temporal                  0.608        0.548  -0.054                    0.249   \n",
              "performance              -0.214       -0.352   0.210                   -0.032   \n",
              "effort                    1.000        0.655  -0.056                    0.336   \n",
              "frustration               0.655        1.000  -0.134                    0.305   \n",
              "Answer                   -0.056       -0.134   1.000                   -0.100   \n",
              "quartile_classification   0.336        0.305  -0.100                    1.000   \n",
              "SGLT                      0.081        0.126   0.015                   -0.056   \n",
              "\n",
              "                          SGLT  \n",
              "Count                   -0.045  \n",
              "mental                   0.135  \n",
              "physical                 0.125  \n",
              "temporal                 0.006  \n",
              "performance             -0.014  \n",
              "effort                   0.081  \n",
              "frustration              0.126  \n",
              "Answer                   0.015  \n",
              "quartile_classification -0.056  \n",
              "SGLT                     1.000  "
            ]
          },
          "execution_count": 41,
          "metadata": {},
          "output_type": "execute_result"
        }
      ],
      "source": [
        "correlation_matrix2"
      ]
    },
    {
      "cell_type": "code",
      "execution_count": 42,
      "metadata": {
        "colab": {
          "base_uri": "https://localhost:8080/",
          "height": 681
        },
        "id": "eQ8V5_-5Ef8y",
        "outputId": "2408dd94-b580-4eeb-b930-a309fa629b97"
      },
      "outputs": [
        {
          "data": {
            "image/png": "[encoded data removed]",
            "text/plain": [
              "<Figure size 800x600 with 2 Axes>"
            ]
          },
          "metadata": {},
          "output_type": "display_data"
        }
      ],
      "source": [
        "# Create a correlation heatmap\n",
        "plt.figure(figsize=(8, 6))  # Set the size of the heatmap\n",
        "sns.heatmap(correlation_matrix2, annot=True, cmap='viridis', vmin=-1, vmax=1)\n",
        "\n",
        "# Add a title to the heatmap\n",
        "plt.title(\"Correlation Heatmap\")\n",
        "\n",
        "# Display the heatmap\n",
        "plt.show()"
      ]
    },
    {
      "cell_type": "code",
      "execution_count": 43,
      "metadata": {
        "id": "srTNoIdR968q"
      },
      "outputs": [],
      "source": [
        "corr1 = df[factors].corr(method='pearson').round(2)"
      ]
    },
    {
      "cell_type": "code",
      "execution_count": 44,
      "metadata": {
        "colab": {
          "base_uri": "https://localhost:8080/",
          "height": 331
        },
        "id": "KWqxPhRLCSdY",
        "outputId": "a7829320-ff11-4d6d-eb26-85d1623a1aa1"
      },
      "outputs": [
        {
          "data": {
            "text/html": [
              "<div>\n",
              "<style scoped>\n",
              "    .dataframe tbody tr th:only-of-type {\n",
              "        vertical-align: middle;\n",
              "    }\n",
              "\n",
              "    .dataframe tbody tr th {\n",
              "        vertical-align: top;\n",
              "    }\n",
              "\n",
              "    .dataframe thead th {\n",
              "        text-align: right;\n",
              "    }\n",
              "</style>\n",
              "<table border=\"1\" class=\"dataframe\">\n",
              "  <thead>\n",
              "    <tr style=\"text-align: right;\">\n",
              "      <th></th>\n",
              "      <th>0</th>\n",
              "    </tr>\n",
              "  </thead>\n",
              "  <tbody>\n",
              "    <tr>\n",
              "      <th>mental</th>\n",
              "      <td>0.043</td>\n",
              "    </tr>\n",
              "    <tr>\n",
              "      <th>physical</th>\n",
              "      <td>0.090</td>\n",
              "    </tr>\n",
              "    <tr>\n",
              "      <th>temporal</th>\n",
              "      <td>0.028</td>\n",
              "    </tr>\n",
              "    <tr>\n",
              "      <th>performance</th>\n",
              "      <td>0.002</td>\n",
              "    </tr>\n",
              "    <tr>\n",
              "      <th>effort</th>\n",
              "      <td>0.081</td>\n",
              "    </tr>\n",
              "    <tr>\n",
              "      <th>frustration</th>\n",
              "      <td>0.001</td>\n",
              "    </tr>\n",
              "    <tr>\n",
              "      <th>Answer</th>\n",
              "      <td>-0.007</td>\n",
              "    </tr>\n",
              "    <tr>\n",
              "      <th>quartile_classification</th>\n",
              "      <td>0.099</td>\n",
              "    </tr>\n",
              "    <tr>\n",
              "      <th>SGLT</th>\n",
              "      <td>-0.045</td>\n",
              "    </tr>\n",
              "  </tbody>\n",
              "</table>\n",
              "</div>"
            ],
            "text/plain": [
              "                             0\n",
              "mental                   0.043\n",
              "physical                 0.090\n",
              "temporal                 0.028\n",
              "performance              0.002\n",
              "effort                   0.081\n",
              "frustration              0.001\n",
              "Answer                  -0.007\n",
              "quartile_classification  0.099\n",
              "SGLT                    -0.045"
            ]
          },
          "execution_count": 44,
          "metadata": {},
          "output_type": "execute_result"
        }
      ],
      "source": [
        "correlations3 = pd.DataFrame(df[factors].corrwith(df['Count'], method='spearman').round(3))\n",
        "correlations3"
      ]
    },
    {
      "cell_type": "code",
      "execution_count": 45,
      "metadata": {
        "colab": {
          "base_uri": "https://localhost:8080/",
          "height": 681
        },
        "id": "hv6LhkF9rVxR",
        "outputId": "1bb76783-c495-429e-f72e-340ef7767699"
      },
      "outputs": [
        {
          "data": {
            "image/png": "[encoded data removed]",
            "text/plain": [
              "<Figure size 800x600 with 2 Axes>"
            ]
          },
          "metadata": {},
          "output_type": "display_data"
        }
      ],
      "source": [
        "pivot_table = df.pivot_table(index=\"Count\", values=factors)\n",
        "plt.figure(figsize=(8, 6))\n",
        "sns.heatmap(pivot_table, annot=True, cmap=\"coolwarm\")\n",
        "plt.title(\"Heatmap of Count vs Features\")\n",
        "plt.show()"
      ]
    },
    {
      "cell_type": "markdown",
      "metadata": {},
      "source": [
        "### Regression analysis"
      ]
    },
    {
      "cell_type": "code",
      "execution_count": 46,
      "metadata": {
        "colab": {
          "base_uri": "https://localhost:8080/"
        },
        "id": "SMBmOtSm_NNj",
        "outputId": "140f73e5-ac84-4ee6-cfaf-8cc294aea09b"
      },
      "outputs": [
        {
          "name": "stdout",
          "output_type": "stream",
          "text": [
            "Predictor: mental, Mean Squared Error: 23.85951020408163\n",
            "Predictor: physical, Mean Squared Error: 17.398591836734692\n",
            "Predictor: temporal, Mean Squared Error: 23.9625\n",
            "Predictor: performance, Mean Squared Error: 40.811806122448985\n",
            "Predictor: effort, Mean Squared Error: 21.604438775510204\n",
            "Predictor: frustration, Mean Squared Error: 27.193081632653065\n",
            "Predictor: SGLT, Mean Squared Error: 1.5573673469387748\n",
            "Predictor: Answer, Mean Squared Error: 0.38000000000000134\n",
            "Predictor: quartile_classification, Mean Squared Error: 1.2397777777777779\n"
          ]
        }
      ],
      "source": [
        "X = df['Count'].values\n",
        "\n",
        "factors = ['mental', 'physical', 'temporal', 'performance', 'effort', 'frustration', 'SGLT', 'Answer', 'quartile_classification']\n",
        "\n",
        "# Creating a dictionary to store SVR models for each predictor\n",
        "svr_models = {}\n",
        "\n",
        "# Loop through each predictor and train an SVR model\n",
        "for factor in factors:\n",
        "    y = df[factor].values\n",
        "\n",
        "    # Split the data into training and testing sets\n",
        "    X_train, X_test, y_train, y_test = train_test_split(X, y, test_size=0.2, random_state=42)\n",
        "\n",
        "    # Initialize and train the SVR model\n",
        "    svr_model = SVR(kernel='linear')\n",
        "    svr_model.fit(X_train.reshape(-1, 1), y_train)\n",
        "\n",
        "    # Store the trained model\n",
        "    svr_models[factor] = svr_model\n",
        "\n",
        "    # Predict on the test set\n",
        "    y_pred = svr_model.predict(X_test.reshape(-1, 1))\n",
        "\n",
        "    # Calculate and print the Mean Squared Error\n",
        "    # accuracy = accuracy_score(y_test, y_pred)\n",
        "    mse = mean_squared_error(y_test, y_pred)\n",
        "    print(f\"Predictor: {factor}, Mean Squared Error: {mse}\")"
      ]
    },
    {
      "cell_type": "code",
      "execution_count": 47,
      "metadata": {
        "colab": {
          "base_uri": "https://localhost:8080/",
          "height": 331
        },
        "id": "GKWzwevQ_-cu",
        "outputId": "4d71d1c4-d96e-46ee-88d9-b9b5d38bd6b3"
      },
      "outputs": [
        {
          "data": {
            "text/html": [
              "<div>\n",
              "<style scoped>\n",
              "    .dataframe tbody tr th:only-of-type {\n",
              "        vertical-align: middle;\n",
              "    }\n",
              "\n",
              "    .dataframe tbody tr th {\n",
              "        vertical-align: top;\n",
              "    }\n",
              "\n",
              "    .dataframe thead th {\n",
              "        text-align: right;\n",
              "    }\n",
              "</style>\n",
              "<table border=\"1\" class=\"dataframe\">\n",
              "  <thead>\n",
              "    <tr style=\"text-align: right;\">\n",
              "      <th></th>\n",
              "      <th>Factor</th>\n",
              "      <th>MSE</th>\n",
              "      <th>R2</th>\n",
              "      <th>CV Score</th>\n",
              "    </tr>\n",
              "  </thead>\n",
              "  <tbody>\n",
              "    <tr>\n",
              "      <th>0</th>\n",
              "      <td>mental</td>\n",
              "      <td>23.860</td>\n",
              "      <td>-0.048</td>\n",
              "      <td>23.048</td>\n",
              "    </tr>\n",
              "    <tr>\n",
              "      <th>1</th>\n",
              "      <td>physical</td>\n",
              "      <td>17.399</td>\n",
              "      <td>-0.117</td>\n",
              "      <td>16.736</td>\n",
              "    </tr>\n",
              "    <tr>\n",
              "      <th>2</th>\n",
              "      <td>temporal</td>\n",
              "      <td>23.962</td>\n",
              "      <td>-0.168</td>\n",
              "      <td>23.908</td>\n",
              "    </tr>\n",
              "    <tr>\n",
              "      <th>3</th>\n",
              "      <td>performance</td>\n",
              "      <td>40.812</td>\n",
              "      <td>-0.109</td>\n",
              "      <td>42.200</td>\n",
              "    </tr>\n",
              "    <tr>\n",
              "      <th>4</th>\n",
              "      <td>effort</td>\n",
              "      <td>21.604</td>\n",
              "      <td>-0.024</td>\n",
              "      <td>23.937</td>\n",
              "    </tr>\n",
              "    <tr>\n",
              "      <th>5</th>\n",
              "      <td>frustration</td>\n",
              "      <td>27.193</td>\n",
              "      <td>-0.078</td>\n",
              "      <td>33.812</td>\n",
              "    </tr>\n",
              "    <tr>\n",
              "      <th>6</th>\n",
              "      <td>SGLT</td>\n",
              "      <td>1.557</td>\n",
              "      <td>-0.058</td>\n",
              "      <td>1.463</td>\n",
              "    </tr>\n",
              "    <tr>\n",
              "      <th>7</th>\n",
              "      <td>Answer</td>\n",
              "      <td>0.380</td>\n",
              "      <td>-0.529</td>\n",
              "      <td>0.376</td>\n",
              "    </tr>\n",
              "    <tr>\n",
              "      <th>8</th>\n",
              "      <td>quartile_classification</td>\n",
              "      <td>1.240</td>\n",
              "      <td>-0.013</td>\n",
              "      <td>1.224</td>\n",
              "    </tr>\n",
              "  </tbody>\n",
              "</table>\n",
              "</div>"
            ],
            "text/plain": [
              "                    Factor     MSE     R2  CV Score\n",
              "0                   mental  23.860 -0.048    23.048\n",
              "1                 physical  17.399 -0.117    16.736\n",
              "2                 temporal  23.962 -0.168    23.908\n",
              "3              performance  40.812 -0.109    42.200\n",
              "4                   effort  21.604 -0.024    23.937\n",
              "5              frustration  27.193 -0.078    33.812\n",
              "6                     SGLT   1.557 -0.058     1.463\n",
              "7                   Answer   0.380 -0.529     0.376\n",
              "8  quartile_classification   1.240 -0.013     1.224"
            ]
          },
          "execution_count": 47,
          "metadata": {},
          "output_type": "execute_result"
        }
      ],
      "source": [
        "X = df['Count'].values\n",
        "\n",
        "# Predictor variable names\n",
        "factors = ['mental', 'physical', 'temporal', 'performance', 'effort', 'frustration','SGLT', 'Answer', 'quartile_classification']\n",
        "\n",
        "# Creating dictionaries to store evaluation metrics for each predictor\n",
        "mse_scores = {}\n",
        "r2_scores = {}\n",
        "cv_scores = {}\n",
        "\n",
        "# Loop through each predictor and train an SVR model\n",
        "for factor in factors:\n",
        "    y = df[factor].values\n",
        "\n",
        "    # Split the data into training and testing sets\n",
        "    X_train, X_test, y_train, y_test = train_test_split(X, y, test_size=0.2, random_state=42)\n",
        "\n",
        "    # Initialize and train the SVR model\n",
        "    model = SVR(kernel='linear')\n",
        "    model.fit(X_train.reshape(-1, 1), y_train)\n",
        "\n",
        "    # Predict on the test set\n",
        "    y_pred = model.predict(X_test.reshape(-1, 1))\n",
        "\n",
        "    # Calculate Mean Squared Error and R-squared\n",
        "    mse = mean_squared_error(y_test, y_pred)\n",
        "    r2 = r2_score(y_test, y_pred)\n",
        "\n",
        "    # Calculate cross-validation score using 5-fold cross-validation\n",
        "    cv_score = cross_val_score(model, X.reshape(-1, 1), y, cv=5, scoring='neg_mean_squared_error')\n",
        "    cv_score = -cv_score.mean()  # Convert negative MSE to positive\n",
        "\n",
        "    mse_scores[factor] = mse\n",
        "    r2_scores[factor] = r2\n",
        "    cv_scores[factor] = cv_score\n",
        "\n",
        "# Creating a DataFrame to store the results\n",
        "results_svm = pd.DataFrame({'Factor': factors, 'MSE': mse_scores.values(), 'R2': r2_scores.values(), 'CV Score': cv_scores.values()})\n",
        "results_svm = results_svm.round({'MSE': 3, 'R2': 3, 'CV Score': 3})\n",
        "\n",
        "# Print the results\n",
        "results_svm"
      ]
    },
    {
      "cell_type": "code",
      "execution_count": 48,
      "metadata": {
        "colab": {
          "base_uri": "https://localhost:8080/",
          "height": 331
        },
        "id": "esrMPF4yOOFO",
        "outputId": "cb324327-d030-4851-b4c4-61df50d8e1ad"
      },
      "outputs": [
        {
          "data": {
            "text/html": [
              "<div>\n",
              "<style scoped>\n",
              "    .dataframe tbody tr th:only-of-type {\n",
              "        vertical-align: middle;\n",
              "    }\n",
              "\n",
              "    .dataframe tbody tr th {\n",
              "        vertical-align: top;\n",
              "    }\n",
              "\n",
              "    .dataframe thead th {\n",
              "        text-align: right;\n",
              "    }\n",
              "</style>\n",
              "<table border=\"1\" class=\"dataframe\">\n",
              "  <thead>\n",
              "    <tr style=\"text-align: right;\">\n",
              "      <th></th>\n",
              "      <th>Factor</th>\n",
              "      <th>MSE</th>\n",
              "      <th>R2</th>\n",
              "      <th>CV Score</th>\n",
              "    </tr>\n",
              "  </thead>\n",
              "  <tbody>\n",
              "    <tr>\n",
              "      <th>0</th>\n",
              "      <td>mental</td>\n",
              "      <td>22.689955</td>\n",
              "      <td>0.003050</td>\n",
              "      <td>20.676155</td>\n",
              "    </tr>\n",
              "    <tr>\n",
              "      <th>1</th>\n",
              "      <td>physical</td>\n",
              "      <td>15.256569</td>\n",
              "      <td>0.020344</td>\n",
              "      <td>14.903449</td>\n",
              "    </tr>\n",
              "    <tr>\n",
              "      <th>2</th>\n",
              "      <td>temporal</td>\n",
              "      <td>20.649088</td>\n",
              "      <td>-0.006446</td>\n",
              "      <td>20.277668</td>\n",
              "    </tr>\n",
              "    <tr>\n",
              "      <th>3</th>\n",
              "      <td>performance</td>\n",
              "      <td>36.952118</td>\n",
              "      <td>-0.004203</td>\n",
              "      <td>37.922653</td>\n",
              "    </tr>\n",
              "    <tr>\n",
              "      <th>4</th>\n",
              "      <td>effort</td>\n",
              "      <td>20.949077</td>\n",
              "      <td>0.007136</td>\n",
              "      <td>22.828135</td>\n",
              "    </tr>\n",
              "    <tr>\n",
              "      <th>5</th>\n",
              "      <td>frustration</td>\n",
              "      <td>25.561735</td>\n",
              "      <td>-0.013607</td>\n",
              "      <td>28.254402</td>\n",
              "    </tr>\n",
              "    <tr>\n",
              "      <th>6</th>\n",
              "      <td>SGLT</td>\n",
              "      <td>1.470838</td>\n",
              "      <td>0.001128</td>\n",
              "      <td>1.333277</td>\n",
              "    </tr>\n",
              "    <tr>\n",
              "      <th>7</th>\n",
              "      <td>Answer</td>\n",
              "      <td>0.248708</td>\n",
              "      <td>-0.000459</td>\n",
              "      <td>0.255079</td>\n",
              "    </tr>\n",
              "    <tr>\n",
              "      <th>8</th>\n",
              "      <td>quartile_classification</td>\n",
              "      <td>1.222928</td>\n",
              "      <td>0.001182</td>\n",
              "      <td>1.251444</td>\n",
              "    </tr>\n",
              "  </tbody>\n",
              "</table>\n",
              "</div>"
            ],
            "text/plain": [
              "                    Factor        MSE        R2   CV Score\n",
              "0                   mental  22.689955  0.003050  20.676155\n",
              "1                 physical  15.256569  0.020344  14.903449\n",
              "2                 temporal  20.649088 -0.006446  20.277668\n",
              "3              performance  36.952118 -0.004203  37.922653\n",
              "4                   effort  20.949077  0.007136  22.828135\n",
              "5              frustration  25.561735 -0.013607  28.254402\n",
              "6                     SGLT   1.470838  0.001128   1.333277\n",
              "7                   Answer   0.248708 -0.000459   0.255079\n",
              "8  quartile_classification   1.222928  0.001182   1.251444"
            ]
          },
          "execution_count": 48,
          "metadata": {},
          "output_type": "execute_result"
        }
      ],
      "source": [
        "X = df['Count'].values\n",
        "\n",
        "# Predictor variable names\n",
        "factors = ['mental', 'physical', 'temporal', 'performance', 'effort', 'frustration','SGLT', 'Answer', 'quartile_classification']\n",
        "\n",
        "# Creating dictionaries to store evaluation metrics for each predictor\n",
        "mse_scores = {}\n",
        "r2_scores = {}\n",
        "cv_scores = {}\n",
        "\n",
        "# Loop through each predictor and train an SVR model\n",
        "for factor in factors:\n",
        "    y = df[factor].values\n",
        "\n",
        "    # Split the data into training and testing sets\n",
        "    X_train, X_test, y_train, y_test = train_test_split(X, y, test_size=0.2, random_state=42)\n",
        "\n",
        "    # Initialize and train the SVR model\n",
        "    model = LinearRegression()\n",
        "    model.fit(X_train.reshape(-1, 1), y_train)\n",
        "\n",
        "    # Predict on the test set\n",
        "    y_pred = model.predict(X_test.reshape(-1, 1))\n",
        "\n",
        "    # Calculate Mean Squared Error and R-squared\n",
        "    mse = mean_squared_error(y_test, y_pred)\n",
        "    r2 = r2_score(y_test, y_pred)\n",
        "\n",
        "    # Calculate cross-validation score using 5-fold cross-validation\n",
        "    cv_score = cross_val_score(model, X.reshape(-1, 1), y, cv=5, scoring='neg_mean_squared_error')\n",
        "    cv_score = -cv_score.mean()  # Convert negative MSE to positive\n",
        "\n",
        "    mse_scores[factor] = mse\n",
        "    r2_scores[factor] = r2\n",
        "    cv_scores[factor] = cv_score\n",
        "\n",
        "# Creating a DataFrame to store the results\n",
        "results_reg = pd.DataFrame({'Factor': factors, 'MSE': mse_scores.values(), 'R2': r2_scores.values(), 'CV Score': cv_scores.values()})\n",
        "\n",
        "# Print the results\n",
        "results_reg\n"
      ]
    },
    {
      "cell_type": "code",
      "execution_count": 49,
      "metadata": {
        "colab": {
          "base_uri": "https://localhost:8080/"
        },
        "id": "R44isvu0egL1",
        "outputId": "927cd893-f3cb-4e13-c610-ba0435380c56"
      },
      "outputs": [
        {
          "name": "stdout",
          "output_type": "stream",
          "text": [
            "                    Factor        MSE        R2   CV Score\n",
            "0                   mental  22.689955  0.003050  20.676155\n",
            "1                 physical  15.256569  0.020344  14.903449\n",
            "2                 temporal  20.649088 -0.006446  20.277668\n",
            "3              performance  36.952118 -0.004203  37.922653\n",
            "4                   effort  20.949077  0.007136  22.828135\n",
            "5              frustration  25.561735 -0.013607  28.254402\n",
            "6                     SGLT   1.470838  0.001128   1.333277\n",
            "7                   Answer   0.248708 -0.000459   0.255079\n",
            "8  quartile_classification   1.222928  0.001182   1.251444\n",
            "                    Factor     MSE     R2  CV Score\n",
            "0                   mental  23.860 -0.048    23.048\n",
            "1                 physical  17.399 -0.117    16.736\n",
            "2                 temporal  23.962 -0.168    23.908\n",
            "3              performance  40.812 -0.109    42.200\n",
            "4                   effort  21.604 -0.024    23.937\n",
            "5              frustration  27.193 -0.078    33.812\n",
            "6                     SGLT   1.557 -0.058     1.463\n",
            "7                   Answer   0.380 -0.529     0.376\n",
            "8  quartile_classification   1.240 -0.013     1.224\n"
          ]
        }
      ],
      "source": [
        "print(results_reg)\n",
        "print(results_svm)"
      ]
    }
  ],
  "metadata": {
    "colab": {
      "provenance": []
    },
    "kernelspec": {
      "display_name": "Python 3.10.9 ('base')",
      "language": "python",
      "name": "python3"
    },
    "language_info": {
      "codemirror_mode": {
        "name": "ipython",
        "version": 3
      },
      "file_extension": ".py",
      "mimetype": "text/x-python",
      "name": "python",
      "nbconvert_exporter": "python",
      "pygments_lexer": "ipython3",
      "version": "3.10.9"
    },
    "vscode": {
      "interpreter": {
        "hash": "fffc98e9d899e0ff87a477507a6a9f98998a0bb2d09fd35614b9d54e3c15b729"
      }
    }
  },
  "nbformat": 4,
  "nbformat_minor": 0
}
